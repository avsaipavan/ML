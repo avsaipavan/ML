{
 "cells": [
  {
   "cell_type": "code",
   "execution_count": 1,
   "metadata": {
    "collapsed": true
   },
   "outputs": [],
   "source": [
    "import pandas as pd"
   ]
  },
  {
   "cell_type": "code",
   "execution_count": 2,
   "metadata": {
    "collapsed": true
   },
   "outputs": [],
   "source": [
    "import numpy as np"
   ]
  },
  {
   "cell_type": "code",
   "execution_count": 3,
   "metadata": {
    "collapsed": true
   },
   "outputs": [],
   "source": [
    "import matplotlib.pyplot as plt\n",
    "%matplotlib inline"
   ]
  },
  {
   "cell_type": "code",
   "execution_count": 5,
   "metadata": {},
   "outputs": [],
   "source": [
    "InsuranceData=pd.read_csv('E:/machine learning software/Datasets BITS/Insurance_Data.csv') # IMPORTING THE DATA"
   ]
  },
  {
   "cell_type": "code",
   "execution_count": 6,
   "metadata": {},
   "outputs": [
    {
     "data": {
      "text/html": [
       "<div>\n",
       "<style>\n",
       "    .dataframe thead tr:only-child th {\n",
       "        text-align: right;\n",
       "    }\n",
       "\n",
       "    .dataframe thead th {\n",
       "        text-align: left;\n",
       "    }\n",
       "\n",
       "    .dataframe tbody tr th {\n",
       "        vertical-align: top;\n",
       "    }\n",
       "</style>\n",
       "<table border=\"1\" class=\"dataframe\">\n",
       "  <thead>\n",
       "    <tr style=\"text-align: right;\">\n",
       "      <th></th>\n",
       "      <th>Policy Number</th>\n",
       "      <th>Number of Vehicles</th>\n",
       "      <th>Average Age</th>\n",
       "      <th>Gender Dummy</th>\n",
       "      <th>Married Dummy</th>\n",
       "      <th>Avg Veh Age</th>\n",
       "      <th>Fuel Type Dummy</th>\n",
       "      <th>Losses</th>\n",
       "    </tr>\n",
       "  </thead>\n",
       "  <tbody>\n",
       "    <tr>\n",
       "      <th>0</th>\n",
       "      <td>150023</td>\n",
       "      <td>1</td>\n",
       "      <td>20.6</td>\n",
       "      <td>1</td>\n",
       "      <td>0</td>\n",
       "      <td>12.97</td>\n",
       "      <td>0</td>\n",
       "      <td>203.319595</td>\n",
       "    </tr>\n",
       "    <tr>\n",
       "      <th>1</th>\n",
       "      <td>152720</td>\n",
       "      <td>1</td>\n",
       "      <td>42.4</td>\n",
       "      <td>0</td>\n",
       "      <td>1</td>\n",
       "      <td>8.02</td>\n",
       "      <td>0</td>\n",
       "      <td>402.197302</td>\n",
       "    </tr>\n",
       "    <tr>\n",
       "      <th>2</th>\n",
       "      <td>174207</td>\n",
       "      <td>1</td>\n",
       "      <td>42.4</td>\n",
       "      <td>1</td>\n",
       "      <td>0</td>\n",
       "      <td>2.50</td>\n",
       "      <td>1</td>\n",
       "      <td>553.132096</td>\n",
       "    </tr>\n",
       "    <tr>\n",
       "      <th>3</th>\n",
       "      <td>139895</td>\n",
       "      <td>1</td>\n",
       "      <td>42.4</td>\n",
       "      <td>0</td>\n",
       "      <td>0</td>\n",
       "      <td>12.97</td>\n",
       "      <td>0</td>\n",
       "      <td>292.430579</td>\n",
       "    </tr>\n",
       "    <tr>\n",
       "      <th>4</th>\n",
       "      <td>174407</td>\n",
       "      <td>1</td>\n",
       "      <td>20.6</td>\n",
       "      <td>1</td>\n",
       "      <td>1</td>\n",
       "      <td>12.97</td>\n",
       "      <td>0</td>\n",
       "      <td>246.540576</td>\n",
       "    </tr>\n",
       "  </tbody>\n",
       "</table>\n",
       "</div>"
      ],
      "text/plain": [
       "   Policy Number  Number of Vehicles  Average Age  Gender Dummy  \\\n",
       "0         150023                   1         20.6             1   \n",
       "1         152720                   1         42.4             0   \n",
       "2         174207                   1         42.4             1   \n",
       "3         139895                   1         42.4             0   \n",
       "4         174407                   1         20.6             1   \n",
       "\n",
       "   Married Dummy  Avg Veh Age  Fuel Type Dummy      Losses  \n",
       "0              0        12.97                0  203.319595  \n",
       "1              1         8.02                0  402.197302  \n",
       "2              0         2.50                1  553.132096  \n",
       "3              0        12.97                0  292.430579  \n",
       "4              1        12.97                0  246.540576  "
      ]
     },
     "execution_count": 6,
     "metadata": {},
     "output_type": "execute_result"
    }
   ],
   "source": [
    "InsuranceData.head() #HEAD"
   ]
  },
  {
   "cell_type": "code",
   "execution_count": 7,
   "metadata": {},
   "outputs": [
    {
     "data": {
      "text/html": [
       "<div>\n",
       "<style>\n",
       "    .dataframe thead tr:only-child th {\n",
       "        text-align: right;\n",
       "    }\n",
       "\n",
       "    .dataframe thead th {\n",
       "        text-align: left;\n",
       "    }\n",
       "\n",
       "    .dataframe tbody tr th {\n",
       "        vertical-align: top;\n",
       "    }\n",
       "</style>\n",
       "<table border=\"1\" class=\"dataframe\">\n",
       "  <thead>\n",
       "    <tr style=\"text-align: right;\">\n",
       "      <th></th>\n",
       "      <th>Policy Number</th>\n",
       "      <th>Number of Vehicles</th>\n",
       "      <th>Average Age</th>\n",
       "      <th>Gender Dummy</th>\n",
       "      <th>Married Dummy</th>\n",
       "      <th>Avg Veh Age</th>\n",
       "      <th>Fuel Type Dummy</th>\n",
       "      <th>Losses</th>\n",
       "    </tr>\n",
       "  </thead>\n",
       "  <tbody>\n",
       "    <tr>\n",
       "      <th>15285</th>\n",
       "      <td>189499</td>\n",
       "      <td>4</td>\n",
       "      <td>65.1</td>\n",
       "      <td>0</td>\n",
       "      <td>1</td>\n",
       "      <td>12.97</td>\n",
       "      <td>0</td>\n",
       "      <td>58.426429</td>\n",
       "    </tr>\n",
       "    <tr>\n",
       "      <th>15286</th>\n",
       "      <td>142111</td>\n",
       "      <td>4</td>\n",
       "      <td>65.1</td>\n",
       "      <td>0</td>\n",
       "      <td>0</td>\n",
       "      <td>8.02</td>\n",
       "      <td>0</td>\n",
       "      <td>304.519134</td>\n",
       "    </tr>\n",
       "    <tr>\n",
       "      <th>15287</th>\n",
       "      <td>175986</td>\n",
       "      <td>4</td>\n",
       "      <td>65.1</td>\n",
       "      <td>0</td>\n",
       "      <td>0</td>\n",
       "      <td>12.97</td>\n",
       "      <td>0</td>\n",
       "      <td>282.149148</td>\n",
       "    </tr>\n",
       "    <tr>\n",
       "      <th>15288</th>\n",
       "      <td>199800</td>\n",
       "      <td>4</td>\n",
       "      <td>20.6</td>\n",
       "      <td>1</td>\n",
       "      <td>0</td>\n",
       "      <td>8.02</td>\n",
       "      <td>1</td>\n",
       "      <td>822.470554</td>\n",
       "    </tr>\n",
       "    <tr>\n",
       "      <th>15289</th>\n",
       "      <td>187711</td>\n",
       "      <td>4</td>\n",
       "      <td>20.6</td>\n",
       "      <td>0</td>\n",
       "      <td>0</td>\n",
       "      <td>2.50</td>\n",
       "      <td>0</td>\n",
       "      <td>406.924740</td>\n",
       "    </tr>\n",
       "  </tbody>\n",
       "</table>\n",
       "</div>"
      ],
      "text/plain": [
       "       Policy Number  Number of Vehicles  Average Age  Gender Dummy  \\\n",
       "15285         189499                   4         65.1             0   \n",
       "15286         142111                   4         65.1             0   \n",
       "15287         175986                   4         65.1             0   \n",
       "15288         199800                   4         20.6             1   \n",
       "15289         187711                   4         20.6             0   \n",
       "\n",
       "       Married Dummy  Avg Veh Age  Fuel Type Dummy      Losses  \n",
       "15285              1        12.97                0   58.426429  \n",
       "15286              0         8.02                0  304.519134  \n",
       "15287              0        12.97                0  282.149148  \n",
       "15288              0         8.02                1  822.470554  \n",
       "15289              0         2.50                0  406.924740  "
      ]
     },
     "execution_count": 7,
     "metadata": {},
     "output_type": "execute_result"
    }
   ],
   "source": [
    "InsuranceData.tail() #TAIL"
   ]
  },
  {
   "cell_type": "code",
   "execution_count": 8,
   "metadata": {},
   "outputs": [
    {
     "data": {
      "text/html": [
       "<div>\n",
       "<style>\n",
       "    .dataframe thead tr:only-child th {\n",
       "        text-align: right;\n",
       "    }\n",
       "\n",
       "    .dataframe thead th {\n",
       "        text-align: left;\n",
       "    }\n",
       "\n",
       "    .dataframe tbody tr th {\n",
       "        vertical-align: top;\n",
       "    }\n",
       "</style>\n",
       "<table border=\"1\" class=\"dataframe\">\n",
       "  <thead>\n",
       "    <tr style=\"text-align: right;\">\n",
       "      <th></th>\n",
       "      <th>Policy Number</th>\n",
       "      <th>Number of Vehicles</th>\n",
       "      <th>Average Age</th>\n",
       "      <th>Gender Dummy</th>\n",
       "      <th>Married Dummy</th>\n",
       "      <th>Avg Veh Age</th>\n",
       "      <th>Fuel Type Dummy</th>\n",
       "      <th>Losses</th>\n",
       "    </tr>\n",
       "  </thead>\n",
       "  <tbody>\n",
       "    <tr>\n",
       "      <th>count</th>\n",
       "      <td>15290.000000</td>\n",
       "      <td>15290.000000</td>\n",
       "      <td>15290.000000</td>\n",
       "      <td>15290.000000</td>\n",
       "      <td>15290.000000</td>\n",
       "      <td>15290.000000</td>\n",
       "      <td>15290.000000</td>\n",
       "      <td>15290.000000</td>\n",
       "    </tr>\n",
       "    <tr>\n",
       "      <th>mean</th>\n",
       "      <td>149910.276651</td>\n",
       "      <td>2.495880</td>\n",
       "      <td>42.341969</td>\n",
       "      <td>0.493329</td>\n",
       "      <td>0.490974</td>\n",
       "      <td>8.656579</td>\n",
       "      <td>0.236756</td>\n",
       "      <td>389.859718</td>\n",
       "    </tr>\n",
       "    <tr>\n",
       "      <th>std</th>\n",
       "      <td>28948.806631</td>\n",
       "      <td>0.953776</td>\n",
       "      <td>16.976615</td>\n",
       "      <td>0.499972</td>\n",
       "      <td>0.499935</td>\n",
       "      <td>4.084988</td>\n",
       "      <td>0.425105</td>\n",
       "      <td>253.729433</td>\n",
       "    </tr>\n",
       "    <tr>\n",
       "      <th>min</th>\n",
       "      <td>100002.000000</td>\n",
       "      <td>1.000000</td>\n",
       "      <td>20.600000</td>\n",
       "      <td>0.000000</td>\n",
       "      <td>0.000000</td>\n",
       "      <td>2.500000</td>\n",
       "      <td>0.000000</td>\n",
       "      <td>12.534521</td>\n",
       "    </tr>\n",
       "    <tr>\n",
       "      <th>25%</th>\n",
       "      <td>124842.000000</td>\n",
       "      <td>2.000000</td>\n",
       "      <td>20.600000</td>\n",
       "      <td>0.000000</td>\n",
       "      <td>0.000000</td>\n",
       "      <td>8.020000</td>\n",
       "      <td>0.000000</td>\n",
       "      <td>226.434217</td>\n",
       "    </tr>\n",
       "    <tr>\n",
       "      <th>50%</th>\n",
       "      <td>149872.000000</td>\n",
       "      <td>2.000000</td>\n",
       "      <td>42.400000</td>\n",
       "      <td>0.000000</td>\n",
       "      <td>0.000000</td>\n",
       "      <td>8.020000</td>\n",
       "      <td>0.000000</td>\n",
       "      <td>354.937874</td>\n",
       "    </tr>\n",
       "    <tr>\n",
       "      <th>75%</th>\n",
       "      <td>175011.000000</td>\n",
       "      <td>3.000000</td>\n",
       "      <td>65.100000</td>\n",
       "      <td>1.000000</td>\n",
       "      <td>1.000000</td>\n",
       "      <td>12.970000</td>\n",
       "      <td>0.000000</td>\n",
       "      <td>488.676927</td>\n",
       "    </tr>\n",
       "    <tr>\n",
       "      <th>max</th>\n",
       "      <td>200000.000000</td>\n",
       "      <td>4.000000</td>\n",
       "      <td>65.100000</td>\n",
       "      <td>1.000000</td>\n",
       "      <td>1.000000</td>\n",
       "      <td>12.970000</td>\n",
       "      <td>1.000000</td>\n",
       "      <td>3500.000000</td>\n",
       "    </tr>\n",
       "  </tbody>\n",
       "</table>\n",
       "</div>"
      ],
      "text/plain": [
       "       Policy Number  Number of Vehicles   Average Age  Gender Dummy  \\\n",
       "count   15290.000000        15290.000000  15290.000000  15290.000000   \n",
       "mean   149910.276651            2.495880     42.341969      0.493329   \n",
       "std     28948.806631            0.953776     16.976615      0.499972   \n",
       "min    100002.000000            1.000000     20.600000      0.000000   \n",
       "25%    124842.000000            2.000000     20.600000      0.000000   \n",
       "50%    149872.000000            2.000000     42.400000      0.000000   \n",
       "75%    175011.000000            3.000000     65.100000      1.000000   \n",
       "max    200000.000000            4.000000     65.100000      1.000000   \n",
       "\n",
       "       Married Dummy   Avg Veh Age  Fuel Type Dummy        Losses  \n",
       "count   15290.000000  15290.000000     15290.000000  15290.000000  \n",
       "mean        0.490974      8.656579         0.236756    389.859718  \n",
       "std         0.499935      4.084988         0.425105    253.729433  \n",
       "min         0.000000      2.500000         0.000000     12.534521  \n",
       "25%         0.000000      8.020000         0.000000    226.434217  \n",
       "50%         0.000000      8.020000         0.000000    354.937874  \n",
       "75%         1.000000     12.970000         0.000000    488.676927  \n",
       "max         1.000000     12.970000         1.000000   3500.000000  "
      ]
     },
     "execution_count": 8,
     "metadata": {},
     "output_type": "execute_result"
    }
   ],
   "source": [
    "InsuranceData.describe() #DESCRIBE"
   ]
  },
  {
   "cell_type": "code",
   "execution_count": 9,
   "metadata": {},
   "outputs": [
    {
     "data": {
      "text/plain": [
       "(15290, 8)"
      ]
     },
     "execution_count": 9,
     "metadata": {},
     "output_type": "execute_result"
    }
   ],
   "source": [
    "InsuranceData.shape #SHAPE"
   ]
  },
  {
   "cell_type": "code",
   "execution_count": 10,
   "metadata": {},
   "outputs": [
    {
     "data": {
      "text/plain": [
       "Policy Number           int64\n",
       "Number of Vehicles      int64\n",
       "Average Age           float64\n",
       "Gender Dummy            int64\n",
       "Married Dummy           int64\n",
       "Avg Veh Age           float64\n",
       "Fuel Type Dummy         int64\n",
       "Losses                float64\n",
       "dtype: object"
      ]
     },
     "execution_count": 10,
     "metadata": {},
     "output_type": "execute_result"
    }
   ],
   "source": [
    "InsuranceData.dtypes  #DTYPES"
   ]
  },
  {
   "cell_type": "code",
   "execution_count": 11,
   "metadata": {},
   "outputs": [
    {
     "data": {
      "text/plain": [
       "Index(['Policy Number', 'Number of Vehicles', 'Average Age', 'Gender Dummy',\n",
       "       'Married Dummy', 'Avg Veh Age', 'Fuel Type Dummy', 'Losses'],\n",
       "      dtype='object')"
      ]
     },
     "execution_count": 11,
     "metadata": {},
     "output_type": "execute_result"
    }
   ],
   "source": [
    "InsuranceData.columns  #COLUMN NAMES"
   ]
  },
  {
   "cell_type": "code",
   "execution_count": 12,
   "metadata": {},
   "outputs": [
    {
     "data": {
      "text/plain": [
       "<matplotlib.axes._subplots.AxesSubplot at 0x1ae040657b8>"
      ]
     },
     "execution_count": 12,
     "metadata": {},
     "output_type": "execute_result"
    },
    {
     "data": {
      "image/png": "[encoded data removed]",
      "text/plain": [
       "<matplotlib.figure.Figure at 0x1ae04065d68>"
      ]
     },
     "metadata": {},
     "output_type": "display_data"
    }
   ],
   "source": [
    "InsuranceData.Losses.plot(kind='hist')  #HISTOGRAM PLOT OF LOSSES"
   ]
  },
  {
   "cell_type": "code",
   "execution_count": 13,
   "metadata": {},
   "outputs": [
    {
     "data": {
      "text/plain": [
       "<matplotlib.axes._subplots.AxesSubplot at 0x1ae0463f358>"
      ]
     },
     "execution_count": 13,
     "metadata": {},
     "output_type": "execute_result"
    },
    {
     "data": {
      "image/png": "[encoded data removed]",
      "text/plain": [
       "<matplotlib.figure.Figure at 0x1ae04659f60>"
      ]
     },
     "metadata": {},
     "output_type": "display_data"
    }
   ],
   "source": [
    "InsuranceData.Losses.plot(kind='box')  # BOX PLOT OF LOSSES"
   ]
  },
  {
   "cell_type": "code",
   "execution_count": 14,
   "metadata": {},
   "outputs": [
    {
     "data": {
      "text/plain": [
       "<matplotlib.axes._subplots.AxesSubplot at 0x1ae046016d8>"
      ]
     },
     "execution_count": 14,
     "metadata": {},
     "output_type": "execute_result"
    },
    {
     "data": {
      "image/png": "[encoded data removed]",
      "text/plain": [
       "<matplotlib.figure.Figure at 0x1ae04737898>"
      ]
     },
     "metadata": {},
     "output_type": "display_data"
    }
   ],
   "source": [
    "InsuranceData.Losses.plot(kind='density')  # DENSITY CURVE OF LOSSES"
   ]
  },
  {
   "cell_type": "code",
   "execution_count": 29,
   "metadata": {},
   "outputs": [
    {
     "data": {
      "text/plain": [
       "2    5152\n",
       "3    5095\n",
       "1    2533\n",
       "4    2510\n",
       "Name: Number of Vehicles, dtype: int64"
      ]
     },
     "execution_count": 29,
     "metadata": {},
     "output_type": "execute_result"
    }
   ],
   "source": [
    "InsuranceData['Number of Vehicles'].value_counts()  #FREQUENCY OF NUMBER OF VEHICLES"
   ]
  },
  {
   "cell_type": "code",
   "execution_count": 30,
   "metadata": {},
   "outputs": [
    {
     "data": {
      "text/plain": [
       "0    7747\n",
       "1    7543\n",
       "Name: Gender Dummy, dtype: int64"
      ]
     },
     "execution_count": 30,
     "metadata": {},
     "output_type": "execute_result"
    }
   ],
   "source": [
    "InsuranceData['Gender Dummy'].value_counts() #FREQUENCY OF GENDER"
   ]
  },
  {
   "cell_type": "code",
   "execution_count": 31,
   "metadata": {},
   "outputs": [
    {
     "data": {
      "text/plain": [
       "0    11670\n",
       "1     3620\n",
       "Name: Fuel Type Dummy, dtype: int64"
      ]
     },
     "execution_count": 31,
     "metadata": {},
     "output_type": "execute_result"
    }
   ],
   "source": [
    "InsuranceData['Fuel Type Dummy'].value_counts()  #FREQUENCY OF FUEL TYPE"
   ]
  },
  {
   "cell_type": "code",
   "execution_count": 33,
   "metadata": {},
   "outputs": [
    {
     "data": {
      "text/plain": [
       "0    7783\n",
       "1    7507\n",
       "Name: Married Dummy, dtype: int64"
      ]
     },
     "execution_count": 33,
     "metadata": {},
     "output_type": "execute_result"
    }
   ],
   "source": [
    "InsuranceData['Married Dummy'].value_counts() #FREQUENCY OF MARRIED "
   ]
  },
  {
   "cell_type": "code",
   "execution_count": 34,
   "metadata": {},
   "outputs": [
    {
     "data": {
      "text/html": [
       "<div>\n",
       "<style>\n",
       "    .dataframe thead tr:only-child th {\n",
       "        text-align: right;\n",
       "    }\n",
       "\n",
       "    .dataframe thead th {\n",
       "        text-align: left;\n",
       "    }\n",
       "\n",
       "    .dataframe tbody tr th {\n",
       "        vertical-align: top;\n",
       "    }\n",
       "</style>\n",
       "<table border=\"1\" class=\"dataframe\">\n",
       "  <thead>\n",
       "    <tr style=\"text-align: right;\">\n",
       "      <th>Married Dummy</th>\n",
       "      <th>0</th>\n",
       "      <th>1</th>\n",
       "    </tr>\n",
       "    <tr>\n",
       "      <th>Number of Vehicles</th>\n",
       "      <th></th>\n",
       "      <th></th>\n",
       "    </tr>\n",
       "  </thead>\n",
       "  <tbody>\n",
       "    <tr>\n",
       "      <th>1</th>\n",
       "      <td>1317</td>\n",
       "      <td>1216</td>\n",
       "    </tr>\n",
       "    <tr>\n",
       "      <th>2</th>\n",
       "      <td>2606</td>\n",
       "      <td>2546</td>\n",
       "    </tr>\n",
       "    <tr>\n",
       "      <th>3</th>\n",
       "      <td>2613</td>\n",
       "      <td>2482</td>\n",
       "    </tr>\n",
       "    <tr>\n",
       "      <th>4</th>\n",
       "      <td>1247</td>\n",
       "      <td>1263</td>\n",
       "    </tr>\n",
       "  </tbody>\n",
       "</table>\n",
       "</div>"
      ],
      "text/plain": [
       "Married Dummy          0     1\n",
       "Number of Vehicles            \n",
       "1                   1317  1216\n",
       "2                   2606  2546\n",
       "3                   2613  2482\n",
       "4                   1247  1263"
      ]
     },
     "execution_count": 34,
     "metadata": {},
     "output_type": "execute_result"
    }
   ],
   "source": [
    "pd.crosstab(InsuranceData['Number of Vehicles'],InsuranceData['Married Dummy'])  #CROSS TABULATION OF NUMBER OF VEHICLES AND GENDER"
   ]
  },
  {
   "cell_type": "code",
   "execution_count": 35,
   "metadata": {},
   "outputs": [
    {
     "data": {
      "text/html": [
       "<div>\n",
       "<style>\n",
       "    .dataframe thead tr:only-child th {\n",
       "        text-align: right;\n",
       "    }\n",
       "\n",
       "    .dataframe thead th {\n",
       "        text-align: left;\n",
       "    }\n",
       "\n",
       "    .dataframe tbody tr th {\n",
       "        vertical-align: top;\n",
       "    }\n",
       "</style>\n",
       "<table border=\"1\" class=\"dataframe\">\n",
       "  <thead>\n",
       "    <tr style=\"text-align: right;\">\n",
       "      <th>Married Dummy</th>\n",
       "      <th>0</th>\n",
       "      <th>1</th>\n",
       "    </tr>\n",
       "    <tr>\n",
       "      <th>Fuel Type Dummy</th>\n",
       "      <th></th>\n",
       "      <th></th>\n",
       "    </tr>\n",
       "  </thead>\n",
       "  <tbody>\n",
       "    <tr>\n",
       "      <th>0</th>\n",
       "      <td>6651</td>\n",
       "      <td>5019</td>\n",
       "    </tr>\n",
       "    <tr>\n",
       "      <th>1</th>\n",
       "      <td>1132</td>\n",
       "      <td>2488</td>\n",
       "    </tr>\n",
       "  </tbody>\n",
       "</table>\n",
       "</div>"
      ],
      "text/plain": [
       "Married Dummy       0     1\n",
       "Fuel Type Dummy            \n",
       "0                6651  5019\n",
       "1                1132  2488"
      ]
     },
     "execution_count": 35,
     "metadata": {},
     "output_type": "execute_result"
    }
   ],
   "source": [
    "pd.crosstab(InsuranceData['Fuel Type Dummy'],InsuranceData['Married Dummy']) #CROSS TABULATION OF FUEL TYPE AND MARRIED "
   ]
  },
  {
   "cell_type": "markdown",
   "metadata": {},
   "source": [
    "LABEL ENCODING THE VARIABLES GENDER, MARRIED AND FUEL TYPE"
   ]
  },
  {
   "cell_type": "code",
   "execution_count": 36,
   "metadata": {
    "collapsed": true
   },
   "outputs": [],
   "source": [
    "catcol= pd.concat([InsuranceData['Gender Dummy'],InsuranceData['Married Dummy'],InsuranceData['Fuel Type Dummy']],axis=1)"
   ]
  },
  {
   "cell_type": "code",
   "execution_count": 37,
   "metadata": {},
   "outputs": [
    {
     "data": {
      "text/html": [
       "<div>\n",
       "<style>\n",
       "    .dataframe thead tr:only-child th {\n",
       "        text-align: right;\n",
       "    }\n",
       "\n",
       "    .dataframe thead th {\n",
       "        text-align: left;\n",
       "    }\n",
       "\n",
       "    .dataframe tbody tr th {\n",
       "        vertical-align: top;\n",
       "    }\n",
       "</style>\n",
       "<table border=\"1\" class=\"dataframe\">\n",
       "  <thead>\n",
       "    <tr style=\"text-align: right;\">\n",
       "      <th></th>\n",
       "      <th>Gender Dummy</th>\n",
       "      <th>Married Dummy</th>\n",
       "      <th>Fuel Type Dummy</th>\n",
       "    </tr>\n",
       "  </thead>\n",
       "  <tbody>\n",
       "    <tr>\n",
       "      <th>0</th>\n",
       "      <td>1</td>\n",
       "      <td>0</td>\n",
       "      <td>0</td>\n",
       "    </tr>\n",
       "    <tr>\n",
       "      <th>1</th>\n",
       "      <td>0</td>\n",
       "      <td>1</td>\n",
       "      <td>0</td>\n",
       "    </tr>\n",
       "    <tr>\n",
       "      <th>2</th>\n",
       "      <td>1</td>\n",
       "      <td>0</td>\n",
       "      <td>1</td>\n",
       "    </tr>\n",
       "    <tr>\n",
       "      <th>3</th>\n",
       "      <td>0</td>\n",
       "      <td>0</td>\n",
       "      <td>0</td>\n",
       "    </tr>\n",
       "    <tr>\n",
       "      <th>4</th>\n",
       "      <td>1</td>\n",
       "      <td>1</td>\n",
       "      <td>0</td>\n",
       "    </tr>\n",
       "  </tbody>\n",
       "</table>\n",
       "</div>"
      ],
      "text/plain": [
       "   Gender Dummy  Married Dummy  Fuel Type Dummy\n",
       "0             1              0                0\n",
       "1             0              1                0\n",
       "2             1              0                1\n",
       "3             0              0                0\n",
       "4             1              1                0"
      ]
     },
     "execution_count": 37,
     "metadata": {},
     "output_type": "execute_result"
    }
   ],
   "source": [
    "catcol.head()"
   ]
  },
  {
   "cell_type": "code",
   "execution_count": 38,
   "metadata": {
    "collapsed": true
   },
   "outputs": [],
   "source": [
    "numcol=pd.concat([InsuranceData['Number of Vehicles'],InsuranceData['Average Age'],InsuranceData['Avg Veh Age'],InsuranceData['Losses']],axis=1)"
   ]
  },
  {
   "cell_type": "code",
   "execution_count": 39,
   "metadata": {},
   "outputs": [
    {
     "data": {
      "text/html": [
       "<div>\n",
       "<style>\n",
       "    .dataframe thead tr:only-child th {\n",
       "        text-align: right;\n",
       "    }\n",
       "\n",
       "    .dataframe thead th {\n",
       "        text-align: left;\n",
       "    }\n",
       "\n",
       "    .dataframe tbody tr th {\n",
       "        vertical-align: top;\n",
       "    }\n",
       "</style>\n",
       "<table border=\"1\" class=\"dataframe\">\n",
       "  <thead>\n",
       "    <tr style=\"text-align: right;\">\n",
       "      <th></th>\n",
       "      <th>Number of Vehicles</th>\n",
       "      <th>Average Age</th>\n",
       "      <th>Avg Veh Age</th>\n",
       "      <th>Losses</th>\n",
       "    </tr>\n",
       "  </thead>\n",
       "  <tbody>\n",
       "    <tr>\n",
       "      <th>0</th>\n",
       "      <td>1</td>\n",
       "      <td>20.6</td>\n",
       "      <td>12.97</td>\n",
       "      <td>203.319595</td>\n",
       "    </tr>\n",
       "    <tr>\n",
       "      <th>1</th>\n",
       "      <td>1</td>\n",
       "      <td>42.4</td>\n",
       "      <td>8.02</td>\n",
       "      <td>402.197302</td>\n",
       "    </tr>\n",
       "    <tr>\n",
       "      <th>2</th>\n",
       "      <td>1</td>\n",
       "      <td>42.4</td>\n",
       "      <td>2.50</td>\n",
       "      <td>553.132096</td>\n",
       "    </tr>\n",
       "    <tr>\n",
       "      <th>3</th>\n",
       "      <td>1</td>\n",
       "      <td>42.4</td>\n",
       "      <td>12.97</td>\n",
       "      <td>292.430579</td>\n",
       "    </tr>\n",
       "    <tr>\n",
       "      <th>4</th>\n",
       "      <td>1</td>\n",
       "      <td>20.6</td>\n",
       "      <td>12.97</td>\n",
       "      <td>246.540576</td>\n",
       "    </tr>\n",
       "  </tbody>\n",
       "</table>\n",
       "</div>"
      ],
      "text/plain": [
       "   Number of Vehicles  Average Age  Avg Veh Age      Losses\n",
       "0                   1         20.6        12.97  203.319595\n",
       "1                   1         42.4         8.02  402.197302\n",
       "2                   1         42.4         2.50  553.132096\n",
       "3                   1         42.4        12.97  292.430579\n",
       "4                   1         20.6        12.97  246.540576"
      ]
     },
     "execution_count": 39,
     "metadata": {},
     "output_type": "execute_result"
    }
   ],
   "source": [
    "numcol.head()"
   ]
  },
  {
   "cell_type": "code",
   "execution_count": 40,
   "metadata": {
    "collapsed": true
   },
   "outputs": [],
   "source": [
    "from sklearn.preprocessing import LabelEncoder"
   ]
  },
  {
   "cell_type": "code",
   "execution_count": 41,
   "metadata": {
    "collapsed": true
   },
   "outputs": [],
   "source": [
    "le=LabelEncoder()"
   ]
  },
  {
   "cell_type": "code",
   "execution_count": 42,
   "metadata": {
    "collapsed": true
   },
   "outputs": [],
   "source": [
    "catcol1=catcol.apply(le.fit_transform)"
   ]
  },
  {
   "cell_type": "code",
   "execution_count": 43,
   "metadata": {
    "collapsed": true
   },
   "outputs": [],
   "source": [
    "InsuranceDatadf=pd.concat([catcol1,numcol],axis=1)"
   ]
  },
  {
   "cell_type": "code",
   "execution_count": 44,
   "metadata": {},
   "outputs": [
    {
     "data": {
      "text/html": [
       "<div>\n",
       "<style>\n",
       "    .dataframe thead tr:only-child th {\n",
       "        text-align: right;\n",
       "    }\n",
       "\n",
       "    .dataframe thead th {\n",
       "        text-align: left;\n",
       "    }\n",
       "\n",
       "    .dataframe tbody tr th {\n",
       "        vertical-align: top;\n",
       "    }\n",
       "</style>\n",
       "<table border=\"1\" class=\"dataframe\">\n",
       "  <thead>\n",
       "    <tr style=\"text-align: right;\">\n",
       "      <th></th>\n",
       "      <th>Gender Dummy</th>\n",
       "      <th>Married Dummy</th>\n",
       "      <th>Fuel Type Dummy</th>\n",
       "      <th>Number of Vehicles</th>\n",
       "      <th>Average Age</th>\n",
       "      <th>Avg Veh Age</th>\n",
       "      <th>Losses</th>\n",
       "    </tr>\n",
       "  </thead>\n",
       "  <tbody>\n",
       "    <tr>\n",
       "      <th>0</th>\n",
       "      <td>1</td>\n",
       "      <td>0</td>\n",
       "      <td>0</td>\n",
       "      <td>1</td>\n",
       "      <td>20.6</td>\n",
       "      <td>12.97</td>\n",
       "      <td>203.319595</td>\n",
       "    </tr>\n",
       "    <tr>\n",
       "      <th>1</th>\n",
       "      <td>0</td>\n",
       "      <td>1</td>\n",
       "      <td>0</td>\n",
       "      <td>1</td>\n",
       "      <td>42.4</td>\n",
       "      <td>8.02</td>\n",
       "      <td>402.197302</td>\n",
       "    </tr>\n",
       "    <tr>\n",
       "      <th>2</th>\n",
       "      <td>1</td>\n",
       "      <td>0</td>\n",
       "      <td>1</td>\n",
       "      <td>1</td>\n",
       "      <td>42.4</td>\n",
       "      <td>2.50</td>\n",
       "      <td>553.132096</td>\n",
       "    </tr>\n",
       "    <tr>\n",
       "      <th>3</th>\n",
       "      <td>0</td>\n",
       "      <td>0</td>\n",
       "      <td>0</td>\n",
       "      <td>1</td>\n",
       "      <td>42.4</td>\n",
       "      <td>12.97</td>\n",
       "      <td>292.430579</td>\n",
       "    </tr>\n",
       "    <tr>\n",
       "      <th>4</th>\n",
       "      <td>1</td>\n",
       "      <td>1</td>\n",
       "      <td>0</td>\n",
       "      <td>1</td>\n",
       "      <td>20.6</td>\n",
       "      <td>12.97</td>\n",
       "      <td>246.540576</td>\n",
       "    </tr>\n",
       "  </tbody>\n",
       "</table>\n",
       "</div>"
      ],
      "text/plain": [
       "   Gender Dummy  Married Dummy  Fuel Type Dummy  Number of Vehicles  \\\n",
       "0             1              0                0                   1   \n",
       "1             0              1                0                   1   \n",
       "2             1              0                1                   1   \n",
       "3             0              0                0                   1   \n",
       "4             1              1                0                   1   \n",
       "\n",
       "   Average Age  Avg Veh Age      Losses  \n",
       "0         20.6        12.97  203.319595  \n",
       "1         42.4         8.02  402.197302  \n",
       "2         42.4         2.50  553.132096  \n",
       "3         42.4        12.97  292.430579  \n",
       "4         20.6        12.97  246.540576  "
      ]
     },
     "execution_count": 44,
     "metadata": {},
     "output_type": "execute_result"
    }
   ],
   "source": [
    "InsuranceDatadf.head()"
   ]
  },
  {
   "cell_type": "markdown",
   "metadata": {},
   "source": [
    "CREATING X AND Y"
   ]
  },
  {
   "cell_type": "code",
   "execution_count": 45,
   "metadata": {
    "collapsed": true
   },
   "outputs": [],
   "source": [
    "y=InsuranceDatadf.Losses\n",
    "X=InsuranceDatadf.drop('Losses',axis=1)"
   ]
  },
  {
   "cell_type": "markdown",
   "metadata": {},
   "source": [
    "CONDUCTING MULTIPE LINEAR REGRESSION"
   ]
  },
  {
   "cell_type": "code",
   "execution_count": 46,
   "metadata": {
    "collapsed": true
   },
   "outputs": [],
   "source": [
    "from sklearn.linear_model import LinearRegression  "
   ]
  },
  {
   "cell_type": "code",
   "execution_count": 47,
   "metadata": {
    "collapsed": true
   },
   "outputs": [],
   "source": [
    "LinReg=LinearRegression()"
   ]
  },
  {
   "cell_type": "code",
   "execution_count": 49,
   "metadata": {},
   "outputs": [],
   "source": [
    "LinRegmodel=LinReg.fit(X,y)"
   ]
  },
  {
   "cell_type": "code",
   "execution_count": 51,
   "metadata": {},
   "outputs": [
    {
     "data": {
      "text/plain": [
       "0.65547777433122534"
      ]
     },
     "execution_count": 51,
     "metadata": {},
     "output_type": "execute_result"
    }
   ],
   "source": [
    "LinRegmodel.score(X,y)  # R Squared of Linear Regression Model"
   ]
  },
  {
   "cell_type": "code",
   "execution_count": 52,
   "metadata": {},
   "outputs": [
    {
     "data": {
      "text/plain": [
       "650.81315667893614"
      ]
     },
     "execution_count": 52,
     "metadata": {},
     "output_type": "execute_result"
    }
   ],
   "source": [
    "LinRegmodel.intercept_"
   ]
  },
  {
   "cell_type": "markdown",
   "metadata": {},
   "source": [
    "REGRESSION EQUATION = 650.81315 + 55.3824*Gender Dummy + 84.70837*Married Dummy + 271.1078*Fuel Type Dummy - 2.095144*Number of Vehicles - 5.84687*Average Age - 16.3175*Avg Veh Age"
   ]
  },
  {
   "cell_type": "code",
   "execution_count": 53,
   "metadata": {},
   "outputs": [
    {
     "data": {
      "text/plain": [
       "array([  55.38240043,   84.7083789 ,  271.10781761,   -2.09514428,\n",
       "         -5.84687023,  -16.31753492])"
      ]
     },
     "execution_count": 53,
     "metadata": {},
     "output_type": "execute_result"
    }
   ],
   "source": [
    "LinRegmodel.coef_"
   ]
  },
  {
   "cell_type": "code",
   "execution_count": 55,
   "metadata": {},
   "outputs": [
    {
     "name": "stdout",
     "output_type": "stream",
     "text": [
      "[('Gender Dummy', 55.382400426130474), ('Married Dummy', 84.708378904786429), ('Fuel Type Dummy', 271.10781761214395), ('Number of Vehicles', -2.0951442798179967), ('Average Age', -5.8468702349026955), ('Avg Veh Age', -16.317534921354525)]\n"
     ]
    }
   ],
   "source": [
    "print(list(zip(X,LinRegmodel.coef_)))"
   ]
  },
  {
   "cell_type": "markdown",
   "metadata": {},
   "source": [
    "PREDICTING THE LOSSES"
   ]
  },
  {
   "cell_type": "code",
   "execution_count": 57,
   "metadata": {},
   "outputs": [],
   "source": [
    "LinRegpredict=LinRegmodel.predict(X)"
   ]
  },
  {
   "cell_type": "code",
   "execution_count": 58,
   "metadata": {},
   "outputs": [
    {
     "data": {
      "text/plain": [
       "array([ 372.01645806,  354.65246327,  686.50709517, ...,   50.16289934,\n",
       "        717.61064069,  481.19321542])"
      ]
     },
     "execution_count": 58,
     "metadata": {},
     "output_type": "execute_result"
    }
   ],
   "source": [
    "LinRegpredict  \n"
   ]
  },
  {
   "cell_type": "code",
   "execution_count": 59,
   "metadata": {
    "collapsed": true
   },
   "outputs": [],
   "source": [
    "priceresidual=y-LinRegpredict  "
   ]
  },
  {
   "cell_type": "code",
   "execution_count": 60,
   "metadata": {},
   "outputs": [
    {
     "data": {
      "text/plain": [
       "0       -168.696863\n",
       "1         47.544839\n",
       "2       -133.374999\n",
       "3        103.258293\n",
       "4       -210.184261\n",
       "5         59.349910\n",
       "6         17.433600\n",
       "7        112.485704\n",
       "8       -297.490661\n",
       "9       -158.569860\n",
       "10        35.897202\n",
       "11       133.508709\n",
       "12      -155.054537\n",
       "13        50.286245\n",
       "14        33.195220\n",
       "15        70.107410\n",
       "16       110.200390\n",
       "17        44.812166\n",
       "18       -45.064108\n",
       "19        -7.460914\n",
       "20       117.947348\n",
       "21       149.245229\n",
       "22       109.444154\n",
       "23        51.228226\n",
       "24      -180.703904\n",
       "25      -159.886607\n",
       "26      -129.219364\n",
       "27        -6.344086\n",
       "28        21.140015\n",
       "29       -43.295525\n",
       "            ...    \n",
       "15260   -279.382768\n",
       "15261     65.687085\n",
       "15262     -8.008755\n",
       "15263     67.225123\n",
       "15264    189.999455\n",
       "15265     99.477141\n",
       "15266     -4.717670\n",
       "15267     87.105316\n",
       "15268     17.870639\n",
       "15269   -195.900667\n",
       "15270   -243.342488\n",
       "15271     78.069517\n",
       "15272     92.421336\n",
       "15273    229.891432\n",
       "15274    425.607319\n",
       "15275     19.676707\n",
       "15276    -14.219923\n",
       "15277    208.344046\n",
       "15278     30.962101\n",
       "15279     37.756957\n",
       "15280      7.964442\n",
       "15281    -99.670619\n",
       "15282     68.502644\n",
       "15283    -43.506764\n",
       "15284   -118.515515\n",
       "15285    -76.444849\n",
       "15286    173.584437\n",
       "15287    231.986248\n",
       "15288    104.859913\n",
       "15289    -74.268475\n",
       "Name: Losses, Length: 15290, dtype: float64"
      ]
     },
     "execution_count": 60,
     "metadata": {},
     "output_type": "execute_result"
    }
   ],
   "source": [
    "priceresidual"
   ]
  },
  {
   "cell_type": "markdown",
   "metadata": {},
   "source": [
    "ROOT MEAN SQUARE ERROR OF LOSSES"
   ]
  },
  {
   "cell_type": "code",
   "execution_count": 61,
   "metadata": {},
   "outputs": [
    {
     "data": {
      "text/plain": [
       "148.924197537151"
      ]
     },
     "execution_count": 61,
     "metadata": {},
     "output_type": "execute_result"
    }
   ],
   "source": [
    "np.sqrt(np.mean(priceresidual**2))  "
   ]
  },
  {
   "cell_type": "code",
   "execution_count": null,
   "metadata": {
    "collapsed": true
   },
   "outputs": [],
   "source": []
  }
 ],
 "metadata": {
  "kernelspec": {
   "display_name": "Python 3",
   "language": "python",
   "name": "python3"
  },
  "language_info": {
   "codemirror_mode": {
    "name": "ipython",
    "version": 3
   },
   "file_extension": ".py",
   "mimetype": "text/x-python",
   "name": "python",
   "nbconvert_exporter": "python",
   "pygments_lexer": "ipython3",
   "version": "3.8.8"
  }
 },
 "nbformat": 4,
 "nbformat_minor": 2
}
