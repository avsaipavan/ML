{
 "cells": [
  {
   "cell_type": "code",
   "execution_count": 1,
   "metadata": {
    "collapsed": true
   },
   "outputs": [],
   "source": [
    "import pandas as pd"
   ]
  },
  {
   "cell_type": "code",
   "execution_count": 2,
   "metadata": {
    "collapsed": true
   },
   "outputs": [],
   "source": [
    "import numpy as np"
   ]
  },
  {
   "cell_type": "code",
   "execution_count": 3,
   "metadata": {
    "collapsed": true
   },
   "outputs": [],
   "source": [
    "import matplotlib.pyplot as plt\n",
    "%matplotlib inline"
   ]
  },
  {
   "cell_type": "code",
   "execution_count": 4,
   "metadata": {
    "collapsed": true
   },
   "outputs": [],
   "source": [
    "usedcarprices=pd.read_csv(\"E:/machine learning software/Datasets BITS/usedcarsales.csv\")"
   ]
  },
  {
   "cell_type": "code",
   "execution_count": 5,
   "metadata": {
    "collapsed": true
   },
   "outputs": [],
   "source": [
    "#numpy package function called np.array()\n"
   ]
  },
  {
   "cell_type": "code",
   "execution_count": 6,
   "metadata": {},
   "outputs": [
    {
     "data": {
      "text/html": [
       "<div>\n",
       "<style>\n",
       "    .dataframe thead tr:only-child th {\n",
       "        text-align: right;\n",
       "    }\n",
       "\n",
       "    .dataframe thead th {\n",
       "        text-align: left;\n",
       "    }\n",
       "\n",
       "    .dataframe tbody tr th {\n",
       "        vertical-align: top;\n",
       "    }\n",
       "</style>\n",
       "<table border=\"1\" class=\"dataframe\">\n",
       "  <thead>\n",
       "    <tr style=\"text-align: right;\">\n",
       "      <th></th>\n",
       "      <th>Unnamed: 0</th>\n",
       "      <th>Price</th>\n",
       "      <th>Age</th>\n",
       "      <th>KM</th>\n",
       "      <th>FuelType</th>\n",
       "      <th>HP</th>\n",
       "      <th>MetColor</th>\n",
       "      <th>Automatic</th>\n",
       "      <th>CC</th>\n",
       "      <th>Doors</th>\n",
       "      <th>Weight</th>\n",
       "      <th>AutoType</th>\n",
       "      <th>MetColorType</th>\n",
       "    </tr>\n",
       "  </thead>\n",
       "  <tbody>\n",
       "    <tr>\n",
       "      <th>0</th>\n",
       "      <td>1</td>\n",
       "      <td>13500</td>\n",
       "      <td>23</td>\n",
       "      <td>46986</td>\n",
       "      <td>Diesel</td>\n",
       "      <td>90</td>\n",
       "      <td>1</td>\n",
       "      <td>0</td>\n",
       "      <td>2000</td>\n",
       "      <td>3</td>\n",
       "      <td>1165</td>\n",
       "      <td>Manual</td>\n",
       "      <td>Metcolor</td>\n",
       "    </tr>\n",
       "    <tr>\n",
       "      <th>1</th>\n",
       "      <td>2</td>\n",
       "      <td>13750</td>\n",
       "      <td>23</td>\n",
       "      <td>72937</td>\n",
       "      <td>Diesel</td>\n",
       "      <td>90</td>\n",
       "      <td>1</td>\n",
       "      <td>0</td>\n",
       "      <td>2000</td>\n",
       "      <td>3</td>\n",
       "      <td>1165</td>\n",
       "      <td>Manual</td>\n",
       "      <td>Metcolor</td>\n",
       "    </tr>\n",
       "    <tr>\n",
       "      <th>2</th>\n",
       "      <td>3</td>\n",
       "      <td>13950</td>\n",
       "      <td>24</td>\n",
       "      <td>41711</td>\n",
       "      <td>Diesel</td>\n",
       "      <td>90</td>\n",
       "      <td>1</td>\n",
       "      <td>0</td>\n",
       "      <td>2000</td>\n",
       "      <td>3</td>\n",
       "      <td>1165</td>\n",
       "      <td>Manual</td>\n",
       "      <td>Metcolor</td>\n",
       "    </tr>\n",
       "    <tr>\n",
       "      <th>3</th>\n",
       "      <td>4</td>\n",
       "      <td>14950</td>\n",
       "      <td>26</td>\n",
       "      <td>48000</td>\n",
       "      <td>Diesel</td>\n",
       "      <td>90</td>\n",
       "      <td>0</td>\n",
       "      <td>0</td>\n",
       "      <td>2000</td>\n",
       "      <td>3</td>\n",
       "      <td>1165</td>\n",
       "      <td>Manual</td>\n",
       "      <td>NonMetcolor</td>\n",
       "    </tr>\n",
       "    <tr>\n",
       "      <th>4</th>\n",
       "      <td>5</td>\n",
       "      <td>13750</td>\n",
       "      <td>30</td>\n",
       "      <td>38500</td>\n",
       "      <td>Diesel</td>\n",
       "      <td>90</td>\n",
       "      <td>0</td>\n",
       "      <td>0</td>\n",
       "      <td>2000</td>\n",
       "      <td>3</td>\n",
       "      <td>1170</td>\n",
       "      <td>Manual</td>\n",
       "      <td>NonMetcolor</td>\n",
       "    </tr>\n",
       "  </tbody>\n",
       "</table>\n",
       "</div>"
      ],
      "text/plain": [
       "   Unnamed: 0  Price  Age     KM FuelType  HP  MetColor  Automatic    CC  \\\n",
       "0           1  13500   23  46986   Diesel  90         1          0  2000   \n",
       "1           2  13750   23  72937   Diesel  90         1          0  2000   \n",
       "2           3  13950   24  41711   Diesel  90         1          0  2000   \n",
       "3           4  14950   26  48000   Diesel  90         0          0  2000   \n",
       "4           5  13750   30  38500   Diesel  90         0          0  2000   \n",
       "\n",
       "   Doors  Weight AutoType MetColorType  \n",
       "0      3    1165   Manual     Metcolor  \n",
       "1      3    1165   Manual     Metcolor  \n",
       "2      3    1165   Manual     Metcolor  \n",
       "3      3    1165   Manual  NonMetcolor  \n",
       "4      3    1170   Manual  NonMetcolor  "
      ]
     },
     "execution_count": 6,
     "metadata": {},
     "output_type": "execute_result"
    }
   ],
   "source": [
    "usedcarprices.head()"
   ]
  },
  {
   "cell_type": "markdown",
   "metadata": {},
   "source": [
    "THE ONLY TYPE OF ANALYSISON CATEGORICAL,CHARACTER OR STRING DATA IS FREQUENCY COUNTS-HOW MANY TYPES THE PARTICULAR CLASS OR ITMS REPEATING.\n"
   ]
  },
  {
   "cell_type": "code",
   "execution_count": 7,
   "metadata": {},
   "outputs": [
    {
     "data": {
      "text/plain": [
       "Petrol    1264\n",
       "Diesel     155\n",
       "CNG         17\n",
       "Name: FuelType, dtype: int64"
      ]
     },
     "execution_count": 7,
     "metadata": {},
     "output_type": "execute_result"
    }
   ],
   "source": [
    "pd.value_counts(usedcarprices.FuelType)"
   ]
  },
  {
   "cell_type": "code",
   "execution_count": 8,
   "metadata": {},
   "outputs": [
    {
     "data": {
      "text/plain": [
       "<matplotlib.axes._subplots.AxesSubplot at 0x1ba94f59160>"
      ]
     },
     "execution_count": 8,
     "metadata": {},
     "output_type": "execute_result"
    },
    {
     "data": {
      "image/png": "[encoded data removed]",
      "text/plain": [
       "<matplotlib.figure.Figure at 0x1ba94f1e860>"
      ]
     },
     "metadata": {},
     "output_type": "display_data"
    }
   ],
   "source": [
    "pd.value_counts(usedcarprices.FuelType).plot(kind='bar') "
   ]
  },
  {
   "cell_type": "code",
   "execution_count": 9,
   "metadata": {},
   "outputs": [
    {
     "data": {
      "text/plain": [
       "Manual    1356\n",
       "Auto        80\n",
       "Name: AutoType, dtype: int64"
      ]
     },
     "execution_count": 9,
     "metadata": {},
     "output_type": "execute_result"
    }
   ],
   "source": [
    "pd.value_counts(usedcarprices.AutoType)"
   ]
  },
  {
   "cell_type": "code",
   "execution_count": 10,
   "metadata": {},
   "outputs": [
    {
     "data": {
      "text/plain": [
       "Metcolor       969\n",
       "NonMetcolor    467\n",
       "Name: MetColorType, dtype: int64"
      ]
     },
     "execution_count": 10,
     "metadata": {},
     "output_type": "execute_result"
    }
   ],
   "source": [
    "pd.value_counts(usedcarprices.MetColorType)"
   ]
  },
  {
   "cell_type": "markdown",
   "metadata": {},
   "source": [
    "C"
   ]
  },
  {
   "cell_type": "code",
   "execution_count": 11,
   "metadata": {},
   "outputs": [
    {
     "data": {
      "text/html": [
       "<div>\n",
       "<style>\n",
       "    .dataframe thead tr:only-child th {\n",
       "        text-align: right;\n",
       "    }\n",
       "\n",
       "    .dataframe thead th {\n",
       "        text-align: left;\n",
       "    }\n",
       "\n",
       "    .dataframe tbody tr th {\n",
       "        vertical-align: top;\n",
       "    }\n",
       "</style>\n",
       "<table border=\"1\" class=\"dataframe\">\n",
       "  <thead>\n",
       "    <tr style=\"text-align: right;\">\n",
       "      <th>AutoType</th>\n",
       "      <th>Auto</th>\n",
       "      <th>Manual</th>\n",
       "    </tr>\n",
       "    <tr>\n",
       "      <th>FuelType</th>\n",
       "      <th></th>\n",
       "      <th></th>\n",
       "    </tr>\n",
       "  </thead>\n",
       "  <tbody>\n",
       "    <tr>\n",
       "      <th>CNG</th>\n",
       "      <td>1</td>\n",
       "      <td>16</td>\n",
       "    </tr>\n",
       "    <tr>\n",
       "      <th>Diesel</th>\n",
       "      <td>0</td>\n",
       "      <td>155</td>\n",
       "    </tr>\n",
       "    <tr>\n",
       "      <th>Petrol</th>\n",
       "      <td>79</td>\n",
       "      <td>1185</td>\n",
       "    </tr>\n",
       "  </tbody>\n",
       "</table>\n",
       "</div>"
      ],
      "text/plain": [
       "AutoType  Auto  Manual\n",
       "FuelType              \n",
       "CNG          1      16\n",
       "Diesel       0     155\n",
       "Petrol      79    1185"
      ]
     },
     "execution_count": 11,
     "metadata": {},
     "output_type": "execute_result"
    }
   ],
   "source": [
    "#CROSS TABULATION: TABLE OF TWO OR MORE CATEGORICAL OR STRING VALUES\n",
    "pd.crosstab(usedcarprices.FuelType,usedcarprices.AutoType)"
   ]
  },
  {
   "cell_type": "code",
   "execution_count": 12,
   "metadata": {},
   "outputs": [
    {
     "data": {
      "text/html": [
       "<div>\n",
       "<style>\n",
       "    .dataframe thead tr:only-child th {\n",
       "        text-align: right;\n",
       "    }\n",
       "\n",
       "    .dataframe thead th {\n",
       "        text-align: left;\n",
       "    }\n",
       "\n",
       "    .dataframe tbody tr th {\n",
       "        vertical-align: top;\n",
       "    }\n",
       "</style>\n",
       "<table border=\"1\" class=\"dataframe\">\n",
       "  <thead>\n",
       "    <tr style=\"text-align: right;\">\n",
       "      <th>MetColorType</th>\n",
       "      <th>Metcolor</th>\n",
       "      <th>NonMetcolor</th>\n",
       "    </tr>\n",
       "    <tr>\n",
       "      <th>AutoType</th>\n",
       "      <th></th>\n",
       "      <th></th>\n",
       "    </tr>\n",
       "  </thead>\n",
       "  <tbody>\n",
       "    <tr>\n",
       "      <th>Auto</th>\n",
       "      <td>51</td>\n",
       "      <td>29</td>\n",
       "    </tr>\n",
       "    <tr>\n",
       "      <th>Manual</th>\n",
       "      <td>918</td>\n",
       "      <td>438</td>\n",
       "    </tr>\n",
       "  </tbody>\n",
       "</table>\n",
       "</div>"
      ],
      "text/plain": [
       "MetColorType  Metcolor  NonMetcolor\n",
       "AutoType                           \n",
       "Auto                51           29\n",
       "Manual             918          438"
      ]
     },
     "execution_count": 12,
     "metadata": {},
     "output_type": "execute_result"
    }
   ],
   "source": [
    "pd.crosstab(usedcarprices.AutoType,usedcarprices.MetColorType)"
   ]
  },
  {
   "cell_type": "code",
   "execution_count": 13,
   "metadata": {},
   "outputs": [
    {
     "data": {
      "text/plain": [
       "<matplotlib.axes._subplots.AxesSubplot at 0x1ba9530a710>"
      ]
     },
     "execution_count": 13,
     "metadata": {},
     "output_type": "execute_result"
    },
    {
     "data": {
      "image/png": "[encoded data removed]",
      "text/plain": [
       "<matplotlib.figure.Figure at 0x1ba952fba58>"
      ]
     },
     "metadata": {},
     "output_type": "display_data"
    }
   ],
   "source": [
    "#CREATE STACKED BAR CHART OF FUEL TYPE AND AUTO TYPE\n",
    "pd.crosstab(usedcarprices.FuelType,usedcarprices.AutoType).plot(kind='bar',stacked=True)"
   ]
  },
  {
   "cell_type": "code",
   "execution_count": 14,
   "metadata": {},
   "outputs": [
    {
     "data": {
      "text/plain": [
       "<matplotlib.axes._subplots.AxesSubplot at 0x1ba95413278>"
      ]
     },
     "execution_count": 14,
     "metadata": {},
     "output_type": "execute_result"
    },
    {
     "data": {
      "image/png": "[encoded data removed]",
      "text/plain": [
       "<matplotlib.figure.Figure at 0x1ba95427c88>"
      ]
     },
     "metadata": {},
     "output_type": "display_data"
    }
   ],
   "source": [
    "pd.crosstab(usedcarprices.AutoType,usedcarprices.MetColorType).plot(kind='bar',stacked=True)"
   ]
  },
  {
   "cell_type": "code",
   "execution_count": 15,
   "metadata": {},
   "outputs": [
    {
     "data": {
      "text/plain": [
       "count     1436.000000\n",
       "mean     10730.824513\n",
       "std       3626.964585\n",
       "min       4350.000000\n",
       "25%       8450.000000\n",
       "50%       9900.000000\n",
       "75%      11950.000000\n",
       "max      32500.000000\n",
       "Name: Price, dtype: float64"
      ]
     },
     "execution_count": 15,
     "metadata": {},
     "output_type": "execute_result"
    }
   ],
   "source": [
    "#DATA MANIPULATION - CREATION OF CATEGORICAL VARIABLES FROM NUMERIC VARIABLES\n",
    "#FOR DATA MANIPULATION - QUARTILES ARE USED FOR FIXING THE LOWER AND UPPER LIMITS FOR EACH CLASS OR GROUP\n",
    "\n",
    "#BASED ON PRICE CREATE NEW VARIABLE CALLED PRICETYPE- HIGH PRICE, MEDIUM PRICE ,LOW PRICE CAR AND VERY HIGH PRICE CAR\n",
    "usedcarprices.Price.describe()"
   ]
  },
  {
   "cell_type": "code",
   "execution_count": 16,
   "metadata": {
    "collapsed": true
   },
   "outputs": [],
   "source": [
    "#for loop with if statement"
   ]
  },
  {
   "cell_type": "code",
   "execution_count": 17,
   "metadata": {
    "collapsed": true
   },
   "outputs": [],
   "source": [
    "PriceType=[]\n",
    "for row in usedcarprices.Price:\n",
    "    if row>=12000:\n",
    "        PriceType.append('VERY HIGH PRICE')\n",
    "    elif row>=10000:\n",
    "        PriceType.append('HIGH PRICE')\n",
    "    elif row>=8500:\n",
    "        PriceType.append('MEDIUM PRICE')\n",
    "    else:\n",
    "        PriceType.append('LOW PRICE')\n",
    "usedcarprices['PriceType']=PriceType"
   ]
  },
  {
   "cell_type": "code",
   "execution_count": 18,
   "metadata": {},
   "outputs": [
    {
     "data": {
      "text/plain": [
       "MEDIUM PRICE       450\n",
       "LOW PRICE          372\n",
       "VERY HIGH PRICE    315\n",
       "HIGH PRICE         299\n",
       "Name: PriceType, dtype: int64"
      ]
     },
     "execution_count": 18,
     "metadata": {},
     "output_type": "execute_result"
    }
   ],
   "source": [
    "pd.value_counts(usedcarprices.PriceType)"
   ]
  },
  {
   "cell_type": "code",
   "execution_count": 19,
   "metadata": {
    "collapsed": true
   },
   "outputs": [],
   "source": [
    "#CREATE NEW VARIABLE CALLED USAGETYPE BASED ON NUM OF KILOMETERS RUN ON KM VARIABLE\n",
    "#VERY HEAVY USE, HEAVY USE, MEDIUM USE & LOW USE - 4 CLASS VARIABLE\n"
   ]
  },
  {
   "cell_type": "code",
   "execution_count": 20,
   "metadata": {
    "collapsed": true
   },
   "outputs": [],
   "source": [
    "UsageType=[]\n",
    "for row in usedcarprices.KM:\n",
    "    if row>=87020.75:\n",
    "        UsageType.append('VERY HEAVY USE')\n",
    "    elif row>=63389.50:\n",
    "        UsageType.append('HEAVY USE')\n",
    "    elif row>=43000:\n",
    "        UsageType.append('MEDIUM USE')\n",
    "    else:\n",
    "        UsageType.append('LOW USE')\n",
    "usedcarprices['UsageType']=UsageType\n",
    "    "
   ]
  },
  {
   "cell_type": "code",
   "execution_count": 21,
   "metadata": {},
   "outputs": [
    {
     "data": {
      "text/plain": [
       "MEDIUM USE        361\n",
       "VERY HEAVY USE    359\n",
       "HEAVY USE         359\n",
       "LOW USE           357\n",
       "Name: UsageType, dtype: int64"
      ]
     },
     "execution_count": 21,
     "metadata": {},
     "output_type": "execute_result"
    }
   ],
   "source": [
    "pd.value_counts(usedcarprices.UsageType)"
   ]
  },
  {
   "cell_type": "code",
   "execution_count": 22,
   "metadata": {
    "collapsed": true
   },
   "outputs": [],
   "source": [
    "#CREATE A NEW VARIABLE BASED ON HP "
   ]
  },
  {
   "cell_type": "code",
   "execution_count": 23,
   "metadata": {},
   "outputs": [
    {
     "data": {
      "text/plain": [
       "count    1436.000000\n",
       "mean      101.502089\n",
       "std        14.981080\n",
       "min        69.000000\n",
       "25%        90.000000\n",
       "50%       110.000000\n",
       "75%       110.000000\n",
       "max       192.000000\n",
       "Name: HP, dtype: float64"
      ]
     },
     "execution_count": 23,
     "metadata": {},
     "output_type": "execute_result"
    }
   ],
   "source": [
    "usedcarprices.HP.describe()"
   ]
  },
  {
   "cell_type": "code",
   "execution_count": 24,
   "metadata": {
    "collapsed": true
   },
   "outputs": [],
   "source": [
    "HPType=[]\n",
    "for row in usedcarprices.HP:\n",
    "    if row>=110:\n",
    "        HPType.append('high speed')\n",
    "    elif row>=90:\n",
    "        HPType.append('medium speed')\n",
    "    else:\n",
    "        HPType.append('low speed')\n",
    "usedcarprices['HPType']=HPType"
   ]
  },
  {
   "cell_type": "code",
   "execution_count": 25,
   "metadata": {},
   "outputs": [
    {
     "data": {
      "text/plain": [
       "high speed      855\n",
       "low speed       358\n",
       "medium speed    223\n",
       "Name: HPType, dtype: int64"
      ]
     },
     "execution_count": 25,
     "metadata": {},
     "output_type": "execute_result"
    }
   ],
   "source": [
    "pd.value_counts(usedcarprices.HPType)"
   ]
  },
  {
   "cell_type": "code",
   "execution_count": 26,
   "metadata": {},
   "outputs": [
    {
     "data": {
      "text/plain": [
       "(1436, 16)"
      ]
     },
     "execution_count": 26,
     "metadata": {},
     "output_type": "execute_result"
    }
   ],
   "source": [
    "usedcarprices.shape"
   ]
  },
  {
   "cell_type": "code",
   "execution_count": 27,
   "metadata": {
    "collapsed": true
   },
   "outputs": [],
   "source": [
    "#how many heavy use cars are high speed"
   ]
  },
  {
   "cell_type": "code",
   "execution_count": 28,
   "metadata": {},
   "outputs": [
    {
     "data": {
      "text/html": [
       "<div>\n",
       "<style>\n",
       "    .dataframe thead tr:only-child th {\n",
       "        text-align: right;\n",
       "    }\n",
       "\n",
       "    .dataframe thead th {\n",
       "        text-align: left;\n",
       "    }\n",
       "\n",
       "    .dataframe tbody tr th {\n",
       "        vertical-align: top;\n",
       "    }\n",
       "</style>\n",
       "<table border=\"1\" class=\"dataframe\">\n",
       "  <thead>\n",
       "    <tr style=\"text-align: right;\">\n",
       "      <th>HPType</th>\n",
       "      <th>high speed</th>\n",
       "      <th>low speed</th>\n",
       "      <th>medium speed</th>\n",
       "    </tr>\n",
       "    <tr>\n",
       "      <th>UsageType</th>\n",
       "      <th></th>\n",
       "      <th></th>\n",
       "      <th></th>\n",
       "    </tr>\n",
       "  </thead>\n",
       "  <tbody>\n",
       "    <tr>\n",
       "      <th>HEAVY USE</th>\n",
       "      <td>230</td>\n",
       "      <td>92</td>\n",
       "      <td>37</td>\n",
       "    </tr>\n",
       "    <tr>\n",
       "      <th>LOW USE</th>\n",
       "      <td>215</td>\n",
       "      <td>35</td>\n",
       "      <td>107</td>\n",
       "    </tr>\n",
       "    <tr>\n",
       "      <th>MEDIUM USE</th>\n",
       "      <td>233</td>\n",
       "      <td>71</td>\n",
       "      <td>57</td>\n",
       "    </tr>\n",
       "    <tr>\n",
       "      <th>VERY HEAVY USE</th>\n",
       "      <td>177</td>\n",
       "      <td>160</td>\n",
       "      <td>22</td>\n",
       "    </tr>\n",
       "  </tbody>\n",
       "</table>\n",
       "</div>"
      ],
      "text/plain": [
       "HPType          high speed  low speed  medium speed\n",
       "UsageType                                          \n",
       "HEAVY USE              230         92            37\n",
       "LOW USE                215         35           107\n",
       "MEDIUM USE             233         71            57\n",
       "VERY HEAVY USE         177        160            22"
      ]
     },
     "execution_count": 28,
     "metadata": {},
     "output_type": "execute_result"
    }
   ],
   "source": [
    "pd.crosstab(usedcarprices.UsageType,usedcarprices.HPType)"
   ]
  },
  {
   "cell_type": "code",
   "execution_count": 29,
   "metadata": {
    "collapsed": true
   },
   "outputs": [],
   "source": [
    "#INFERENTIAL STATISTICS - HYPOTHESIS TESTING IS COMPILATION OF MEANS OR AVERAGES\n",
    "\n",
    "#THERE ARE TWO TYPES OF CARS- 80 AUTO CARS AND 1356 MANUAL CARS\n",
    "#THE AVERAGE PRICE OF MANUAL CARS IS 10701.69174\n",
    "#THE AVERAGE PRICE OF AUTO CARS IS 11224.62500\n",
    "#IS THE DIFFERNECE OF 500$ STATISTICALLY SIGNIFICANT OR NOT\n",
    "#NULL HYPOTHESIS - THE AVERAGE PRICES OF AUTO & MANUAL CARS IS EQUAL OR SAME\n",
    "#ALTERNATE HYPOTHESIS - THE AVERAGE PRICES OF AUTO & MANUAL CARS IS NOT EQUAL OR NOT SAME\n",
    "# y VARIABLE - PRICE - NUMERICAL & x VARIABLE - AUTOTYPE - NUMERICAL - TWO TYPES\n",
    "#IN THIS CASE WE USE 2 SIMPLE INDEPENDENT T TEST\n",
    "# IF THE p-VALUE IS LESS THAN 0.05 REJECT NULL HYPOTHESIS & ACCEPT THE ALTERNATIVE\n",
    "# IF THE p-VAULE IS GREATER THAN 0.05 ACCEPT NULL & REJECT ALTERNATIVE\n",
    "# 0.05 - ALPHA - 5% ERROR RATE - 95% CONFIDENCE LEVEL\n"
   ]
  },
  {
   "cell_type": "code",
   "execution_count": 30,
   "metadata": {},
   "outputs": [
    {
     "data": {
      "text/plain": [
       "AutoType\n",
       "Auto      11224.62500\n",
       "Manual    10701.69174\n",
       "Name: Price, dtype: float64"
      ]
     },
     "execution_count": 30,
     "metadata": {},
     "output_type": "execute_result"
    }
   ],
   "source": [
    "usedcarprices.Price.groupby(usedcarprices.AutoType).mean()"
   ]
  },
  {
   "cell_type": "code",
   "execution_count": 31,
   "metadata": {
    "collapsed": true
   },
   "outputs": [],
   "source": [
    "from scipy import stats as st"
   ]
  },
  {
   "cell_type": "code",
   "execution_count": 32,
   "metadata": {
    "collapsed": true
   },
   "outputs": [],
   "source": [
    "automatic=usedcarprices[usedcarprices.AutoType=='Auto'] #subsetting the data\n",
    "manual=usedcarprices[usedcarprices.AutoType=='Manual']"
   ]
  },
  {
   "cell_type": "code",
   "execution_count": 33,
   "metadata": {},
   "outputs": [
    {
     "data": {
      "text/plain": [
       "Ttest_indResult(statistic=1.2533921042135481, pvalue=0.21026735893250906)"
      ]
     },
     "execution_count": 33,
     "metadata": {},
     "output_type": "execute_result"
    }
   ],
   "source": [
    "st.ttest_ind(automatic.Price,manual.Price) # 2 sample independent T Test\n",
    "#SINCE THE p VALUE IS GREATER THAN 0.05, WE ACCEPT THE NULL\n",
    "#THERE IS NO SIGNIFICANT DIFFERENCE IN THE AVERAGE PRICES OF AUTO AND MANUAL CARS\n",
    "#THE DIFFERENCE OF 500$ DOESNOT MATTER"
   ]
  },
  {
   "cell_type": "code",
   "execution_count": 34,
   "metadata": {},
   "outputs": [
    {
     "data": {
      "text/plain": [
       "MetColorType\n",
       "Metcolor       11004.941176\n",
       "NonMetcolor    10162.047109\n",
       "Name: Price, dtype: float64"
      ]
     },
     "execution_count": 34,
     "metadata": {},
     "output_type": "execute_result"
    }
   ],
   "source": [
    "#THERE ARE TWO TYPES OF MECOLORTYPE - METCOLOR & NON METCOLOR\n",
    "# FIND THE AVERAGE PRICES USING GROUPBY FUNCTION\n",
    "usedcarprices.Price.groupby(usedcarprices.MetColorType).mean()"
   ]
  },
  {
   "cell_type": "code",
   "execution_count": 35,
   "metadata": {
    "collapsed": true
   },
   "outputs": [],
   "source": [
    "#NULL - THERE IS NO SIGNIFICANT DIFFERENCE IN AVERAGE PRICES OF METCOLOR AND NON METCOLOR CARS - BOTH MEANS ARE EQUAL\n",
    "#ALTERNARIVE - THERE IS SIGNIFICANT DIFFERNCE IN AVERAGE PRICES OF METCOLOR AND NONMETCOLOR CARS- BOTH MEANS ARE NOT EQUAL"
   ]
  },
  {
   "cell_type": "code",
   "execution_count": 36,
   "metadata": {
    "collapsed": true
   },
   "outputs": [],
   "source": [
    "metcolor=usedcarprices[usedcarprices.MetColorType=='Metcolor']\n",
    "nonmetcolor=usedcarprices[usedcarprices.MetColorType=='NonMetcolor']"
   ]
  },
  {
   "cell_type": "code",
   "execution_count": 37,
   "metadata": {},
   "outputs": [
    {
     "data": {
      "text/plain": [
       "Ttest_indResult(statistic=4.1487018981997146, pvalue=3.5400828979506025e-05)"
      ]
     },
     "execution_count": 37,
     "metadata": {},
     "output_type": "execute_result"
    }
   ],
   "source": [
    "st.ttest_ind(metcolor.Price,nonmetcolor.Price)"
   ]
  },
  {
   "cell_type": "code",
   "execution_count": 38,
   "metadata": {
    "collapsed": true
   },
   "outputs": [],
   "source": [
    "#SINCE p VALUE IS LESS THAN 0.05, REJECT THE NULL\n",
    "#THERE IS SIGNIFICANT DIFFERENCE IN AVERAGE PRICES OF METCOLOR AND NONMETCOLOR\n",
    "#THE DIFFERENCE OF 1000$ IS STATISTICALLY SIGNIFICANT\n"
   ]
  },
  {
   "cell_type": "code",
   "execution_count": 39,
   "metadata": {
    "collapsed": true
   },
   "outputs": [],
   "source": [
    "#ANOVA SIGLE FACTOR (FOR MORE THAN 2 VARIABLES)\n",
    "#NULL - THE AVERAGE PRICES OF PETROL, DIESEL AND CNG CARS ARE EQUAL \n",
    " # ALL MEANS ARE EQUAL\n",
    "#ALTERNATE- THE AVERAGE PRICES OF PETROL,DIESEL AND CNG ARE NOT EQUAL\n",
    " # ALL MEANS ARE NOT EQUAL\n",
    "    \n"
   ]
  },
  {
   "cell_type": "code",
   "execution_count": 40,
   "metadata": {},
   "outputs": [
    {
     "data": {
      "text/plain": [
       "FuelType\n",
       "CNG        9421.176471\n",
       "Diesel    11294.554839\n",
       "Petrol    10679.310127\n",
       "Name: Price, dtype: float64"
      ]
     },
     "execution_count": 40,
     "metadata": {},
     "output_type": "execute_result"
    }
   ],
   "source": [
    "usedcarprices.Price.groupby(usedcarprices.FuelType).mean()"
   ]
  },
  {
   "cell_type": "code",
   "execution_count": 41,
   "metadata": {
    "collapsed": true
   },
   "outputs": [],
   "source": [
    "petrol=usedcarprices[usedcarprices.FuelType=='Petrol']\n",
    "diesel=usedcarprices[usedcarprices.FuelType=='Diesel']\n",
    "cng=usedcarprices[usedcarprices.FuelType=='CNG']"
   ]
  },
  {
   "cell_type": "code",
   "execution_count": 42,
   "metadata": {},
   "outputs": [
    {
     "data": {
      "text/plain": [
       "F_onewayResult(statistic=3.1171479782774179, pvalue=0.044583699346313316)"
      ]
     },
     "execution_count": 42,
     "metadata": {},
     "output_type": "execute_result"
    }
   ],
   "source": [
    "st.f_oneway(petrol.Price,diesel.Price,cng.Price)"
   ]
  },
  {
   "cell_type": "code",
   "execution_count": 43,
   "metadata": {
    "collapsed": true
   },
   "outputs": [],
   "source": [
    "#SINCE p-VALUE IS LESS THAN 0.05 REJECT NULL THAT THE AVERAGE PRICES OF ALL THREE CARS IS EQUAL.\n",
    "#THE DIFFERENCE IS STATISTICALLY SIGNIFICANT"
   ]
  },
  {
   "cell_type": "code",
   "execution_count": 44,
   "metadata": {
    "collapsed": true
   },
   "outputs": [],
   "source": [
    "#NULL- THE AVERAGE PRICES OF VERY HEAVY, HEAVY, MEDIUM AND LOW USE CAR PRICES ARE EQUAL\n",
    "#FIRST DO THE GROUPBY OF PRICE AND USAGE TYPE\n",
    "#CNDUCT THE ANOVA SINGLE FACTOR TEST AND INTERPRET"
   ]
  },
  {
   "cell_type": "code",
   "execution_count": 45,
   "metadata": {},
   "outputs": [
    {
     "data": {
      "text/plain": [
       "UsageType\n",
       "HEAVY USE          9584.534819\n",
       "LOW USE           14217.932773\n",
       "MEDIUM USE        10654.193906\n",
       "VERY HEAVY USE     8486.490251\n",
       "Name: Price, dtype: float64"
      ]
     },
     "execution_count": 45,
     "metadata": {},
     "output_type": "execute_result"
    }
   ],
   "source": [
    "usedcarprices.Price.groupby(usedcarprices.UsageType).mean()"
   ]
  },
  {
   "cell_type": "code",
   "execution_count": 46,
   "metadata": {
    "collapsed": true
   },
   "outputs": [],
   "source": [
    "veryheavy=usedcarprices[usedcarprices.UsageType=='VERY HEAVY USE']\n",
    "heavy=usedcarprices[usedcarprices.UsageType=='HEAVY USE']\n",
    "medium=usedcarprices[usedcarprices.UsageType=='MEDIUM USE']\n",
    "low=usedcarprices[usedcarprices.UsageType=='LOW USE']\n",
    "\n"
   ]
  },
  {
   "cell_type": "code",
   "execution_count": 47,
   "metadata": {},
   "outputs": [
    {
     "data": {
      "text/plain": [
       "F_onewayResult(statistic=257.99606239042993, pvalue=7.7372377005885965e-134)"
      ]
     },
     "execution_count": 47,
     "metadata": {},
     "output_type": "execute_result"
    }
   ],
   "source": [
    "st.f_oneway(veryheavy.Price,heavy.Price,medium.Price,low.Price)"
   ]
  },
  {
   "cell_type": "code",
   "execution_count": 48,
   "metadata": {},
   "outputs": [
    {
     "data": {
      "text/plain": [
       "UsageType\n",
       "HEAVY USE         63.381616\n",
       "LOW USE           38.168067\n",
       "MEDIUM USE        56.326870\n",
       "VERY HEAVY USE    65.810585\n",
       "Name: Age, dtype: float64"
      ]
     },
     "execution_count": 48,
     "metadata": {},
     "output_type": "execute_result"
    }
   ],
   "source": [
    "usedcarprices.Age.groupby(usedcarprices.UsageType).mean()"
   ]
  },
  {
   "cell_type": "code",
   "execution_count": 49,
   "metadata": {},
   "outputs": [
    {
     "data": {
      "text/plain": [
       "F_onewayResult(statistic=243.42018313067641, pvalue=1.2766496121248569e-127)"
      ]
     },
     "execution_count": 49,
     "metadata": {},
     "output_type": "execute_result"
    }
   ],
   "source": [
    "st.f_oneway(veryheavy.Age,heavy.Age,medium.Age,low.Age)"
   ]
  },
  {
   "cell_type": "code",
   "execution_count": 50,
   "metadata": {},
   "outputs": [
    {
     "data": {
      "text/html": [
       "<div>\n",
       "<style>\n",
       "    .dataframe thead tr:only-child th {\n",
       "        text-align: right;\n",
       "    }\n",
       "\n",
       "    .dataframe thead th {\n",
       "        text-align: left;\n",
       "    }\n",
       "\n",
       "    .dataframe tbody tr th {\n",
       "        vertical-align: top;\n",
       "    }\n",
       "</style>\n",
       "<table border=\"1\" class=\"dataframe\">\n",
       "  <thead>\n",
       "    <tr style=\"text-align: right;\">\n",
       "      <th>UsageType</th>\n",
       "      <th>HEAVY USE</th>\n",
       "      <th>LOW USE</th>\n",
       "      <th>MEDIUM USE</th>\n",
       "      <th>VERY HEAVY USE</th>\n",
       "    </tr>\n",
       "    <tr>\n",
       "      <th>FuelType</th>\n",
       "      <th></th>\n",
       "      <th></th>\n",
       "      <th></th>\n",
       "      <th></th>\n",
       "    </tr>\n",
       "  </thead>\n",
       "  <tbody>\n",
       "    <tr>\n",
       "      <th>CNG</th>\n",
       "      <td>3</td>\n",
       "      <td>1</td>\n",
       "      <td>1</td>\n",
       "      <td>12</td>\n",
       "    </tr>\n",
       "    <tr>\n",
       "      <th>Diesel</th>\n",
       "      <td>22</td>\n",
       "      <td>16</td>\n",
       "      <td>15</td>\n",
       "      <td>102</td>\n",
       "    </tr>\n",
       "    <tr>\n",
       "      <th>Petrol</th>\n",
       "      <td>334</td>\n",
       "      <td>340</td>\n",
       "      <td>345</td>\n",
       "      <td>245</td>\n",
       "    </tr>\n",
       "  </tbody>\n",
       "</table>\n",
       "</div>"
      ],
      "text/plain": [
       "UsageType  HEAVY USE  LOW USE  MEDIUM USE  VERY HEAVY USE\n",
       "FuelType                                                 \n",
       "CNG                3        1           1              12\n",
       "Diesel            22       16          15             102\n",
       "Petrol           334      340         345             245"
      ]
     },
     "execution_count": 50,
     "metadata": {},
     "output_type": "execute_result"
    }
   ],
   "source": [
    "#Chi-SQUARE TEST OF INDEPENDENCE - BOTH VARIABLES ARE CATEGORICAL\n",
    "\n",
    "#THE INPUT OF Chi SQUARE TEST OF INDEPENDENCE IS CROSS TABULATION\n",
    "# NULL - THERE IS NO RELATIONSHIP BETWEEN BOTH THE VARIABLES\n",
    "# ALTERNATIVE - THERE IS RELATIONSHIP BETWEEN BOTH THE VARIABLES \n",
    "\n",
    "#NULL - THERE IS NO RELATIONSHIP BETWEEN FUELTYPE AND USAGE TYPE\n",
    "#ALTERNATIVE - THERE IS RELATIONSHIP BETWEEN FUELTYPE AND USAGETYPE\n",
    "pd.crosstab(usedcarprices.FuelType,usedcarprices.UsageType)"
   ]
  },
  {
   "cell_type": "code",
   "execution_count": 51,
   "metadata": {},
   "outputs": [
    {
     "data": {
      "text/plain": [
       "(179.29367942002276,\n",
       " 4.7929222527403627e-36,\n",
       " 6,\n",
       " array([[   4.25      ,    4.22632312,    4.27367688,    4.25      ],\n",
       "        [  38.75      ,   38.53412256,   38.96587744,   38.75      ],\n",
       "        [ 316.        ,  314.23955432,  317.76044568,  316.        ]]))"
      ]
     },
     "execution_count": 51,
     "metadata": {},
     "output_type": "execute_result"
    }
   ],
   "source": [
    "st.chi2_contingency(pd.crosstab(usedcarprices.FuelType,usedcarprices.UsageType))"
   ]
  },
  {
   "cell_type": "code",
   "execution_count": 52,
   "metadata": {
    "collapsed": true
   },
   "outputs": [],
   "source": [
    "#there is no relationship between UsageType and PriceType\n",
    "#there is relationship between UsageType and PriceType"
   ]
  },
  {
   "cell_type": "markdown",
   "metadata": {
    "collapsed": true
   },
   "source": [
    "#DAY 3\n"
   ]
  },
  {
   "cell_type": "code",
   "execution_count": 53,
   "metadata": {},
   "outputs": [
    {
     "data": {
      "text/html": [
       "<div>\n",
       "<style>\n",
       "    .dataframe thead tr:only-child th {\n",
       "        text-align: right;\n",
       "    }\n",
       "\n",
       "    .dataframe thead th {\n",
       "        text-align: left;\n",
       "    }\n",
       "\n",
       "    .dataframe tbody tr th {\n",
       "        vertical-align: top;\n",
       "    }\n",
       "</style>\n",
       "<table border=\"1\" class=\"dataframe\">\n",
       "  <thead>\n",
       "    <tr style=\"text-align: right;\">\n",
       "      <th></th>\n",
       "      <th>Unnamed: 0</th>\n",
       "      <th>Price</th>\n",
       "      <th>Age</th>\n",
       "      <th>KM</th>\n",
       "      <th>FuelType</th>\n",
       "      <th>HP</th>\n",
       "      <th>MetColor</th>\n",
       "      <th>Automatic</th>\n",
       "      <th>CC</th>\n",
       "      <th>Doors</th>\n",
       "      <th>Weight</th>\n",
       "      <th>AutoType</th>\n",
       "      <th>MetColorType</th>\n",
       "      <th>PriceType</th>\n",
       "      <th>UsageType</th>\n",
       "      <th>HPType</th>\n",
       "    </tr>\n",
       "  </thead>\n",
       "  <tbody>\n",
       "    <tr>\n",
       "      <th>0</th>\n",
       "      <td>1</td>\n",
       "      <td>13500</td>\n",
       "      <td>23</td>\n",
       "      <td>46986</td>\n",
       "      <td>Diesel</td>\n",
       "      <td>90</td>\n",
       "      <td>1</td>\n",
       "      <td>0</td>\n",
       "      <td>2000</td>\n",
       "      <td>3</td>\n",
       "      <td>1165</td>\n",
       "      <td>Manual</td>\n",
       "      <td>Metcolor</td>\n",
       "      <td>VERY HIGH PRICE</td>\n",
       "      <td>MEDIUM USE</td>\n",
       "      <td>medium speed</td>\n",
       "    </tr>\n",
       "    <tr>\n",
       "      <th>1</th>\n",
       "      <td>2</td>\n",
       "      <td>13750</td>\n",
       "      <td>23</td>\n",
       "      <td>72937</td>\n",
       "      <td>Diesel</td>\n",
       "      <td>90</td>\n",
       "      <td>1</td>\n",
       "      <td>0</td>\n",
       "      <td>2000</td>\n",
       "      <td>3</td>\n",
       "      <td>1165</td>\n",
       "      <td>Manual</td>\n",
       "      <td>Metcolor</td>\n",
       "      <td>VERY HIGH PRICE</td>\n",
       "      <td>HEAVY USE</td>\n",
       "      <td>medium speed</td>\n",
       "    </tr>\n",
       "    <tr>\n",
       "      <th>2</th>\n",
       "      <td>3</td>\n",
       "      <td>13950</td>\n",
       "      <td>24</td>\n",
       "      <td>41711</td>\n",
       "      <td>Diesel</td>\n",
       "      <td>90</td>\n",
       "      <td>1</td>\n",
       "      <td>0</td>\n",
       "      <td>2000</td>\n",
       "      <td>3</td>\n",
       "      <td>1165</td>\n",
       "      <td>Manual</td>\n",
       "      <td>Metcolor</td>\n",
       "      <td>VERY HIGH PRICE</td>\n",
       "      <td>LOW USE</td>\n",
       "      <td>medium speed</td>\n",
       "    </tr>\n",
       "    <tr>\n",
       "      <th>3</th>\n",
       "      <td>4</td>\n",
       "      <td>14950</td>\n",
       "      <td>26</td>\n",
       "      <td>48000</td>\n",
       "      <td>Diesel</td>\n",
       "      <td>90</td>\n",
       "      <td>0</td>\n",
       "      <td>0</td>\n",
       "      <td>2000</td>\n",
       "      <td>3</td>\n",
       "      <td>1165</td>\n",
       "      <td>Manual</td>\n",
       "      <td>NonMetcolor</td>\n",
       "      <td>VERY HIGH PRICE</td>\n",
       "      <td>MEDIUM USE</td>\n",
       "      <td>medium speed</td>\n",
       "    </tr>\n",
       "    <tr>\n",
       "      <th>4</th>\n",
       "      <td>5</td>\n",
       "      <td>13750</td>\n",
       "      <td>30</td>\n",
       "      <td>38500</td>\n",
       "      <td>Diesel</td>\n",
       "      <td>90</td>\n",
       "      <td>0</td>\n",
       "      <td>0</td>\n",
       "      <td>2000</td>\n",
       "      <td>3</td>\n",
       "      <td>1170</td>\n",
       "      <td>Manual</td>\n",
       "      <td>NonMetcolor</td>\n",
       "      <td>VERY HIGH PRICE</td>\n",
       "      <td>LOW USE</td>\n",
       "      <td>medium speed</td>\n",
       "    </tr>\n",
       "  </tbody>\n",
       "</table>\n",
       "</div>"
      ],
      "text/plain": [
       "   Unnamed: 0  Price  Age     KM FuelType  HP  MetColor  Automatic    CC  \\\n",
       "0           1  13500   23  46986   Diesel  90         1          0  2000   \n",
       "1           2  13750   23  72937   Diesel  90         1          0  2000   \n",
       "2           3  13950   24  41711   Diesel  90         1          0  2000   \n",
       "3           4  14950   26  48000   Diesel  90         0          0  2000   \n",
       "4           5  13750   30  38500   Diesel  90         0          0  2000   \n",
       "\n",
       "   Doors  Weight AutoType MetColorType        PriceType   UsageType  \\\n",
       "0      3    1165   Manual     Metcolor  VERY HIGH PRICE  MEDIUM USE   \n",
       "1      3    1165   Manual     Metcolor  VERY HIGH PRICE   HEAVY USE   \n",
       "2      3    1165   Manual     Metcolor  VERY HIGH PRICE     LOW USE   \n",
       "3      3    1165   Manual  NonMetcolor  VERY HIGH PRICE  MEDIUM USE   \n",
       "4      3    1170   Manual  NonMetcolor  VERY HIGH PRICE     LOW USE   \n",
       "\n",
       "         HPType  \n",
       "0  medium speed  \n",
       "1  medium speed  \n",
       "2  medium speed  \n",
       "3  medium speed  \n",
       "4  medium speed  "
      ]
     },
     "execution_count": 53,
     "metadata": {},
     "output_type": "execute_result"
    }
   ],
   "source": [
    "usedcarprices.head()"
   ]
  },
  {
   "cell_type": "code",
   "execution_count": 54,
   "metadata": {},
   "outputs": [
    {
     "data": {
      "text/plain": [
       "Index(['Unnamed: 0', 'Price', 'Age', 'KM', 'FuelType', 'HP', 'MetColor',\n",
       "       'Automatic', 'CC', 'Doors', 'Weight', 'AutoType', 'MetColorType',\n",
       "       'PriceType', 'UsageType', 'HPType'],\n",
       "      dtype='object')"
      ]
     },
     "execution_count": 54,
     "metadata": {},
     "output_type": "execute_result"
    }
   ],
   "source": [
    "usedcarprices.columns"
   ]
  },
  {
   "cell_type": "code",
   "execution_count": 55,
   "metadata": {
    "collapsed": true
   },
   "outputs": [],
   "source": [
    "usedcarprices1=usedcarprices.drop('Unnamed: 0',axis=1)\n",
    "#axis=1 is column deletion\n",
    "#axis=0 is row deletion and this is default = 0"
   ]
  },
  {
   "cell_type": "code",
   "execution_count": 56,
   "metadata": {},
   "outputs": [
    {
     "data": {
      "text/plain": [
       "Index(['Price', 'Age', 'KM', 'FuelType', 'HP', 'MetColor', 'Automatic', 'CC',\n",
       "       'Doors', 'Weight', 'AutoType', 'MetColorType', 'PriceType', 'UsageType',\n",
       "       'HPType'],\n",
       "      dtype='object')"
      ]
     },
     "execution_count": 56,
     "metadata": {},
     "output_type": "execute_result"
    }
   ],
   "source": [
    "usedcarprices1.columns"
   ]
  },
  {
   "cell_type": "code",
   "execution_count": 57,
   "metadata": {},
   "outputs": [
    {
     "data": {
      "text/plain": [
       "Unnamed: 0       int64\n",
       "Price            int64\n",
       "Age              int64\n",
       "KM               int64\n",
       "FuelType        object\n",
       "HP               int64\n",
       "MetColor         int64\n",
       "Automatic        int64\n",
       "CC               int64\n",
       "Doors            int64\n",
       "Weight           int64\n",
       "AutoType        object\n",
       "MetColorType    object\n",
       "PriceType       object\n",
       "UsageType       object\n",
       "HPType          object\n",
       "dtype: object"
      ]
     },
     "execution_count": 57,
     "metadata": {},
     "output_type": "execute_result"
    }
   ],
   "source": [
    "usedcarprices.dtypes"
   ]
  },
  {
   "cell_type": "code",
   "execution_count": 58,
   "metadata": {
    "collapsed": true
   },
   "outputs": [],
   "source": [
    "numericalcols=usedcarprices1.select_dtypes(include=[np.number])\n",
    "objectcols=usedcarprices1.select_dtypes(include=[\"object\"])"
   ]
  },
  {
   "cell_type": "code",
   "execution_count": 59,
   "metadata": {},
   "outputs": [
    {
     "data": {
      "text/plain": [
       "(1436, 9)"
      ]
     },
     "execution_count": 59,
     "metadata": {},
     "output_type": "execute_result"
    }
   ],
   "source": [
    "numericalcols.shape"
   ]
  },
  {
   "cell_type": "code",
   "execution_count": 60,
   "metadata": {},
   "outputs": [
    {
     "data": {
      "text/plain": [
       "(1436, 6)"
      ]
     },
     "execution_count": 60,
     "metadata": {},
     "output_type": "execute_result"
    }
   ],
   "source": [
    "objectcols.shape"
   ]
  },
  {
   "cell_type": "code",
   "execution_count": 61,
   "metadata": {
    "collapsed": true
   },
   "outputs": [],
   "source": [
    "#LabelEncoder is function in sklearn preprocessing which converts strings or objects or categoricals\n",
    "#to Dummy coded Numerical variables\n",
    "#In alphabetical orber\n",
    "from sklearn.preprocessing import LabelEncoder"
   ]
  },
  {
   "cell_type": "code",
   "execution_count": 62,
   "metadata": {
    "collapsed": true
   },
   "outputs": [],
   "source": [
    "le=LabelEncoder()"
   ]
  },
  {
   "cell_type": "code",
   "execution_count": 63,
   "metadata": {
    "collapsed": true
   },
   "outputs": [],
   "source": [
    "objectcols1=objectcols.apply(le.fit_transform)"
   ]
  },
  {
   "cell_type": "code",
   "execution_count": 64,
   "metadata": {},
   "outputs": [
    {
     "data": {
      "text/html": [
       "<div>\n",
       "<style>\n",
       "    .dataframe thead tr:only-child th {\n",
       "        text-align: right;\n",
       "    }\n",
       "\n",
       "    .dataframe thead th {\n",
       "        text-align: left;\n",
       "    }\n",
       "\n",
       "    .dataframe tbody tr th {\n",
       "        vertical-align: top;\n",
       "    }\n",
       "</style>\n",
       "<table border=\"1\" class=\"dataframe\">\n",
       "  <thead>\n",
       "    <tr style=\"text-align: right;\">\n",
       "      <th></th>\n",
       "      <th>FuelType</th>\n",
       "      <th>AutoType</th>\n",
       "      <th>MetColorType</th>\n",
       "      <th>PriceType</th>\n",
       "      <th>UsageType</th>\n",
       "      <th>HPType</th>\n",
       "    </tr>\n",
       "  </thead>\n",
       "  <tbody>\n",
       "    <tr>\n",
       "      <th>0</th>\n",
       "      <td>1</td>\n",
       "      <td>1</td>\n",
       "      <td>0</td>\n",
       "      <td>3</td>\n",
       "      <td>2</td>\n",
       "      <td>2</td>\n",
       "    </tr>\n",
       "    <tr>\n",
       "      <th>1</th>\n",
       "      <td>1</td>\n",
       "      <td>1</td>\n",
       "      <td>0</td>\n",
       "      <td>3</td>\n",
       "      <td>0</td>\n",
       "      <td>2</td>\n",
       "    </tr>\n",
       "    <tr>\n",
       "      <th>2</th>\n",
       "      <td>1</td>\n",
       "      <td>1</td>\n",
       "      <td>0</td>\n",
       "      <td>3</td>\n",
       "      <td>1</td>\n",
       "      <td>2</td>\n",
       "    </tr>\n",
       "    <tr>\n",
       "      <th>3</th>\n",
       "      <td>1</td>\n",
       "      <td>1</td>\n",
       "      <td>1</td>\n",
       "      <td>3</td>\n",
       "      <td>2</td>\n",
       "      <td>2</td>\n",
       "    </tr>\n",
       "    <tr>\n",
       "      <th>4</th>\n",
       "      <td>1</td>\n",
       "      <td>1</td>\n",
       "      <td>1</td>\n",
       "      <td>3</td>\n",
       "      <td>1</td>\n",
       "      <td>2</td>\n",
       "    </tr>\n",
       "  </tbody>\n",
       "</table>\n",
       "</div>"
      ],
      "text/plain": [
       "   FuelType  AutoType  MetColorType  PriceType  UsageType  HPType\n",
       "0         1         1             0          3          2       2\n",
       "1         1         1             0          3          0       2\n",
       "2         1         1             0          3          1       2\n",
       "3         1         1             1          3          2       2\n",
       "4         1         1             1          3          1       2"
      ]
     },
     "execution_count": 64,
     "metadata": {},
     "output_type": "execute_result"
    }
   ],
   "source": [
    "objectcols1.head()"
   ]
  },
  {
   "cell_type": "code",
   "execution_count": 65,
   "metadata": {
    "collapsed": true
   },
   "outputs": [],
   "source": [
    "usedcarpricesdf=pd.concat([numericalcols,objectcols1],axis=1)\n",
    "\n",
    "#Combining side by side joining of both dataforms\n",
    "#axis=1 - column merge\n",
    "#axis=0 - row merge"
   ]
  },
  {
   "cell_type": "code",
   "execution_count": 66,
   "metadata": {
    "scrolled": true
   },
   "outputs": [
    {
     "data": {
      "text/html": [
       "<div>\n",
       "<style>\n",
       "    .dataframe thead tr:only-child th {\n",
       "        text-align: right;\n",
       "    }\n",
       "\n",
       "    .dataframe thead th {\n",
       "        text-align: left;\n",
       "    }\n",
       "\n",
       "    .dataframe tbody tr th {\n",
       "        vertical-align: top;\n",
       "    }\n",
       "</style>\n",
       "<table border=\"1\" class=\"dataframe\">\n",
       "  <thead>\n",
       "    <tr style=\"text-align: right;\">\n",
       "      <th></th>\n",
       "      <th>Price</th>\n",
       "      <th>Age</th>\n",
       "      <th>KM</th>\n",
       "      <th>HP</th>\n",
       "      <th>MetColor</th>\n",
       "      <th>Automatic</th>\n",
       "      <th>CC</th>\n",
       "      <th>Doors</th>\n",
       "      <th>Weight</th>\n",
       "      <th>FuelType</th>\n",
       "      <th>AutoType</th>\n",
       "      <th>MetColorType</th>\n",
       "      <th>PriceType</th>\n",
       "      <th>UsageType</th>\n",
       "      <th>HPType</th>\n",
       "    </tr>\n",
       "  </thead>\n",
       "  <tbody>\n",
       "    <tr>\n",
       "      <th>0</th>\n",
       "      <td>13500</td>\n",
       "      <td>23</td>\n",
       "      <td>46986</td>\n",
       "      <td>90</td>\n",
       "      <td>1</td>\n",
       "      <td>0</td>\n",
       "      <td>2000</td>\n",
       "      <td>3</td>\n",
       "      <td>1165</td>\n",
       "      <td>1</td>\n",
       "      <td>1</td>\n",
       "      <td>0</td>\n",
       "      <td>3</td>\n",
       "      <td>2</td>\n",
       "      <td>2</td>\n",
       "    </tr>\n",
       "    <tr>\n",
       "      <th>1</th>\n",
       "      <td>13750</td>\n",
       "      <td>23</td>\n",
       "      <td>72937</td>\n",
       "      <td>90</td>\n",
       "      <td>1</td>\n",
       "      <td>0</td>\n",
       "      <td>2000</td>\n",
       "      <td>3</td>\n",
       "      <td>1165</td>\n",
       "      <td>1</td>\n",
       "      <td>1</td>\n",
       "      <td>0</td>\n",
       "      <td>3</td>\n",
       "      <td>0</td>\n",
       "      <td>2</td>\n",
       "    </tr>\n",
       "    <tr>\n",
       "      <th>2</th>\n",
       "      <td>13950</td>\n",
       "      <td>24</td>\n",
       "      <td>41711</td>\n",
       "      <td>90</td>\n",
       "      <td>1</td>\n",
       "      <td>0</td>\n",
       "      <td>2000</td>\n",
       "      <td>3</td>\n",
       "      <td>1165</td>\n",
       "      <td>1</td>\n",
       "      <td>1</td>\n",
       "      <td>0</td>\n",
       "      <td>3</td>\n",
       "      <td>1</td>\n",
       "      <td>2</td>\n",
       "    </tr>\n",
       "    <tr>\n",
       "      <th>3</th>\n",
       "      <td>14950</td>\n",
       "      <td>26</td>\n",
       "      <td>48000</td>\n",
       "      <td>90</td>\n",
       "      <td>0</td>\n",
       "      <td>0</td>\n",
       "      <td>2000</td>\n",
       "      <td>3</td>\n",
       "      <td>1165</td>\n",
       "      <td>1</td>\n",
       "      <td>1</td>\n",
       "      <td>1</td>\n",
       "      <td>3</td>\n",
       "      <td>2</td>\n",
       "      <td>2</td>\n",
       "    </tr>\n",
       "    <tr>\n",
       "      <th>4</th>\n",
       "      <td>13750</td>\n",
       "      <td>30</td>\n",
       "      <td>38500</td>\n",
       "      <td>90</td>\n",
       "      <td>0</td>\n",
       "      <td>0</td>\n",
       "      <td>2000</td>\n",
       "      <td>3</td>\n",
       "      <td>1170</td>\n",
       "      <td>1</td>\n",
       "      <td>1</td>\n",
       "      <td>1</td>\n",
       "      <td>3</td>\n",
       "      <td>1</td>\n",
       "      <td>2</td>\n",
       "    </tr>\n",
       "  </tbody>\n",
       "</table>\n",
       "</div>"
      ],
      "text/plain": [
       "   Price  Age     KM  HP  MetColor  Automatic    CC  Doors  Weight  FuelType  \\\n",
       "0  13500   23  46986  90         1          0  2000      3    1165         1   \n",
       "1  13750   23  72937  90         1          0  2000      3    1165         1   \n",
       "2  13950   24  41711  90         1          0  2000      3    1165         1   \n",
       "3  14950   26  48000  90         0          0  2000      3    1165         1   \n",
       "4  13750   30  38500  90         0          0  2000      3    1170         1   \n",
       "\n",
       "   AutoType  MetColorType  PriceType  UsageType  HPType  \n",
       "0         1             0          3          2       2  \n",
       "1         1             0          3          0       2  \n",
       "2         1             0          3          1       2  \n",
       "3         1             1          3          2       2  \n",
       "4         1             1          3          1       2  "
      ]
     },
     "execution_count": 66,
     "metadata": {},
     "output_type": "execute_result"
    }
   ],
   "source": [
    "usedcarpricesdf.head()"
   ]
  },
  {
   "cell_type": "code",
   "execution_count": 67,
   "metadata": {
    "collapsed": true
   },
   "outputs": [],
   "source": [
    "y=usedcarprices.Price\n",
    "x=usedcarpricesdf.drop('Price',axis=1)"
   ]
  },
  {
   "cell_type": "code",
   "execution_count": 68,
   "metadata": {
    "collapsed": true
   },
   "outputs": [],
   "source": [
    "from sklearn.linear_model import LinearRegression  "
   ]
  },
  {
   "cell_type": "code",
   "execution_count": 69,
   "metadata": {
    "collapsed": true
   },
   "outputs": [],
   "source": [
    "LinReg=LinearRegression()"
   ]
  },
  {
   "cell_type": "code",
   "execution_count": 70,
   "metadata": {
    "collapsed": true
   },
   "outputs": [],
   "source": [
    "LinRegmodel=LinReg.fit(x,y)"
   ]
  },
  {
   "cell_type": "code",
   "execution_count": 71,
   "metadata": {},
   "outputs": [
    {
     "data": {
      "text/plain": [
       "0.87367570705895736"
      ]
     },
     "execution_count": 71,
     "metadata": {},
     "output_type": "execute_result"
    }
   ],
   "source": [
    "LinRegmodel.score(x,y)  # R Squared of Linear Regression Model"
   ]
  },
  {
   "cell_type": "code",
   "execution_count": 72,
   "metadata": {},
   "outputs": [
    {
     "data": {
      "text/plain": [
       "-5372.5259937357951"
      ]
     },
     "execution_count": 72,
     "metadata": {},
     "output_type": "execute_result"
    }
   ],
   "source": [
    "LinRegmodel.intercept_"
   ]
  },
  {
   "cell_type": "code",
   "execution_count": 73,
   "metadata": {},
   "outputs": [
    {
     "data": {
      "text/plain": [
       "array([ -1.19865254e+02,  -1.48567251e-02,   2.50498867e+01,\n",
       "        -8.91870726e+00,   1.17236222e+02,  -1.56836623e+00,\n",
       "        -5.76392900e+01,   2.17517405e+01,   2.07533048e+02,\n",
       "        -1.17236222e+02,   8.91870726e+00,   3.28789358e+02,\n",
       "        -2.86223377e+01,  -1.75194918e+02])"
      ]
     },
     "execution_count": 73,
     "metadata": {},
     "output_type": "execute_result"
    }
   ],
   "source": [
    "LinRegmodel.coef_"
   ]
  },
  {
   "cell_type": "code",
   "execution_count": 74,
   "metadata": {},
   "outputs": [
    {
     "name": "stdout",
     "output_type": "stream",
     "text": [
      "[('Age', -119.8652537088296), ('KM', -0.014856725077739309), ('HP', 25.04988674479165), ('MetColor', -8.9187072551905935), ('Automatic', 117.23622160747658), ('CC', -1.5683662293863279), ('Doors', -57.639290013351456), ('Weight', 21.751740499116806), ('FuelType', 207.53304779818919), ('AutoType', -117.23622160747648), ('MetColorType', 8.9187072551896094), ('PriceType', 328.78935818839483), ('UsageType', -28.622337652786513), ('HPType', -175.1949177688291)]\n"
     ]
    }
   ],
   "source": [
    "print(list(zip(x,LinRegmodel.coef_)))"
   ]
  },
  {
   "cell_type": "code",
   "execution_count": 75,
   "metadata": {
    "collapsed": true
   },
   "outputs": [],
   "source": [
    "LinRegpredict=LinRegmodel.predict(x)"
   ]
  },
  {
   "cell_type": "code",
   "execution_count": 76,
   "metadata": {},
   "outputs": [
    {
     "data": {
      "text/plain": [
       "array([ 16118.24392881,  15789.94173162,  16105.37023753, ...,\n",
       "         8645.26189963,   8419.98605314,  10313.95951031])"
      ]
     },
     "execution_count": 76,
     "metadata": {},
     "output_type": "execute_result"
    }
   ],
   "source": [
    "LinRegpredict  \n",
    "# these values calculated based on Regression Equationn using intercept and coeffiencts\n",
    "# Price= -5372.525-119.865*Age-0.01485*KM+25.049*HP-8.9187+117.236*Automatic.......................-175.1949*HPType"
   ]
  },
  {
   "cell_type": "code",
   "execution_count": 77,
   "metadata": {
    "collapsed": true
   },
   "outputs": [],
   "source": [
    "priceresidual=y-LinRegpredict  # y = ActualPrice LinRegpredict = Predicted Price"
   ]
  },
  {
   "cell_type": "code",
   "execution_count": 78,
   "metadata": {},
   "outputs": [
    {
     "data": {
      "text/plain": [
       "0      -2618.243929\n",
       "1      -2039.941732\n",
       "2      -2155.370238\n",
       "3       -811.420863\n",
       "4      -1810.479777\n",
       "5      -2007.850617\n",
       "6        257.266572\n",
       "7       1952.832857\n",
       "8       1547.657346\n",
       "9      -1385.385884\n",
       "10       932.656782\n",
       "11      -217.822288\n",
       "12      -406.527522\n",
       "13      2093.982968\n",
       "14      3379.218429\n",
       "15      2153.245287\n",
       "16      3387.541690\n",
       "17      1166.406864\n",
       "18       875.792891\n",
       "19      1490.511377\n",
       "20       539.553426\n",
       "21      -542.161647\n",
       "22      -137.252931\n",
       "23       475.646812\n",
       "24      -199.674972\n",
       "25      -939.958803\n",
       "26       935.323444\n",
       "27      -467.880347\n",
       "28       663.553612\n",
       "29      1401.454719\n",
       "           ...     \n",
       "1406    -422.338564\n",
       "1407   -1360.123368\n",
       "1408    1070.282143\n",
       "1409    -880.767266\n",
       "1410    1519.448053\n",
       "1411    -731.532491\n",
       "1412     398.717559\n",
       "1413    -990.373363\n",
       "1414    -413.097322\n",
       "1415   -1924.782702\n",
       "1416    -737.517286\n",
       "1417    -126.522656\n",
       "1418       2.364140\n",
       "1419    -110.574236\n",
       "1420   -1064.948057\n",
       "1421      88.810287\n",
       "1422    -644.731530\n",
       "1423     757.223014\n",
       "1424     -63.763143\n",
       "1425    1366.394173\n",
       "1426     396.798571\n",
       "1427    -386.406150\n",
       "1428     386.865530\n",
       "1429      58.610771\n",
       "1430    1301.217385\n",
       "1431   -1203.468513\n",
       "1432    3006.657813\n",
       "1433    -145.261900\n",
       "1434   -1169.986053\n",
       "1435   -3363.959510\n",
       "Name: Price, Length: 1436, dtype: float64"
      ]
     },
     "execution_count": 78,
     "metadata": {},
     "output_type": "execute_result"
    }
   ],
   "source": [
    "priceresidual"
   ]
  },
  {
   "cell_type": "code",
   "execution_count": 79,
   "metadata": {},
   "outputs": [
    {
     "data": {
      "text/plain": [
       "1288.6514999923138"
      ]
     },
     "execution_count": 79,
     "metadata": {},
     "output_type": "execute_result"
    }
   ],
   "source": [
    "np.sqrt(np.mean(priceresidual**2))  #Root Mean Square Error"
   ]
  },
  {
   "cell_type": "code",
   "execution_count": 80,
   "metadata": {
    "collapsed": true
   },
   "outputs": [],
   "source": [
    "#DAY 4\n",
    "\n",
    "from sklearn.tree import DecisionTreeRegressor"
   ]
  },
  {
   "cell_type": "code",
   "execution_count": 81,
   "metadata": {
    "collapsed": true
   },
   "outputs": [],
   "source": [
    "DecTree=DecisionTreeRegressor()"
   ]
  },
  {
   "cell_type": "code",
   "execution_count": 82,
   "metadata": {
    "collapsed": true
   },
   "outputs": [],
   "source": [
    "DecTreemodel=DecTree.fit(x,y)"
   ]
  },
  {
   "cell_type": "code",
   "execution_count": 83,
   "metadata": {},
   "outputs": [
    {
     "data": {
      "text/plain": [
       "0.99999894052316707"
      ]
     },
     "execution_count": 83,
     "metadata": {},
     "output_type": "execute_result"
    }
   ],
   "source": [
    "DecTreemodel.score(x,y)\n",
    "\n",
    "# 99.99% variance in dependent variable Price "
   ]
  },
  {
   "cell_type": "code",
   "execution_count": 84,
   "metadata": {
    "collapsed": true
   },
   "outputs": [],
   "source": [
    "DecTreepredict=DecTreemodel.predict(x)"
   ]
  },
  {
   "cell_type": "code",
   "execution_count": 85,
   "metadata": {
    "collapsed": true
   },
   "outputs": [],
   "source": [
    "DecTreeresidual=y-DecTreepredict"
   ]
  },
  {
   "cell_type": "code",
   "execution_count": 86,
   "metadata": {},
   "outputs": [
    {
     "data": {
      "text/plain": [
       "3.7319668543103792"
      ]
     },
     "execution_count": 86,
     "metadata": {},
     "output_type": "execute_result"
    }
   ],
   "source": [
    "np.sqrt(np.mean(DecTreeresidual**2))  #Root Mean Square Error"
   ]
  },
  {
   "cell_type": "code",
   "execution_count": 88,
   "metadata": {},
   "outputs": [
    {
     "name": "stdout",
     "output_type": "stream",
     "text": [
      "[('Age', 0.7911145890278467), ('KM', 0.028374616974692093), ('HP', 0.0036990004692389286), ('MetColor', 0.0013058629057274632), ('Automatic', 0.00014591958773804462), ('CC', 0.00051977192900461546), ('Doors', 0.0022573575737221243), ('Weight', 0.060122039653621472), ('FuelType', 0.00052956903246419325), ('AutoType', 5.2294441313529826e-05), ('MetColorType', 0.00042841995582227336), ('PriceType', 0.10946892950302825), ('UsageType', 0.0016222230252428097), ('HPType', 0.00035940592053737851)]\n"
     ]
    }
   ],
   "source": [
    "print(list(zip(x,DecTreemodel.feature_importances_)))"
   ]
  },
  {
   "cell_type": "code",
   "execution_count": 89,
   "metadata": {
    "collapsed": true
   },
   "outputs": [],
   "source": [
    "from sklearn.tree import export_graphviz"
   ]
  },
  {
   "cell_type": "code",
   "execution_count": 90,
   "metadata": {
    "collapsed": true
   },
   "outputs": [],
   "source": [
    "export_graphviz(DecTreemodel,out_file='tree.dot',feature_names = x.columns)"
   ]
  },
  {
   "cell_type": "markdown",
   "metadata": {},
   "source": [
    "BAGGING - RANDOM FOREST"
   ]
  },
  {
   "cell_type": "code",
   "execution_count": 91,
   "metadata": {
    "collapsed": true
   },
   "outputs": [],
   "source": [
    "from sklearn.ensemble import RandomForestRegressor"
   ]
  },
  {
   "cell_type": "code",
   "execution_count": 92,
   "metadata": {
    "collapsed": true
   },
   "outputs": [],
   "source": [
    "RF=RandomForestRegressor(n_estimators=1000)  #n_estimators=num of trees = 1000"
   ]
  },
  {
   "cell_type": "code",
   "execution_count": 93,
   "metadata": {
    "collapsed": true
   },
   "outputs": [],
   "source": [
    "RFmodel=RF.fit(x,y)"
   ]
  },
  {
   "cell_type": "code",
   "execution_count": 94,
   "metadata": {},
   "outputs": [
    {
     "data": {
      "text/plain": [
       "0.99413937485866999"
      ]
     },
     "execution_count": 94,
     "metadata": {},
     "output_type": "execute_result"
    }
   ],
   "source": [
    "RFmodel.score(x,y)"
   ]
  },
  {
   "cell_type": "code",
   "execution_count": 95,
   "metadata": {
    "collapsed": true
   },
   "outputs": [],
   "source": [
    "RFpredict=RFmodel.predict(x)"
   ]
  },
  {
   "cell_type": "code",
   "execution_count": 96,
   "metadata": {
    "collapsed": true
   },
   "outputs": [],
   "source": [
    "RFresidual=y-RFpredict"
   ]
  },
  {
   "cell_type": "code",
   "execution_count": 97,
   "metadata": {},
   "outputs": [
    {
     "data": {
      "text/plain": [
       "277.56456239289179"
      ]
     },
     "execution_count": 97,
     "metadata": {},
     "output_type": "execute_result"
    }
   ],
   "source": [
    "np.sqrt(np.mean(RFresidual**2))"
   ]
  },
  {
   "cell_type": "code",
   "execution_count": 98,
   "metadata": {
    "collapsed": true
   },
   "outputs": [],
   "source": [
    "from sklearn.ensemble import GradientBoostingRegressor"
   ]
  },
  {
   "cell_type": "code",
   "execution_count": 99,
   "metadata": {
    "collapsed": true
   },
   "outputs": [],
   "source": [
    "GB=GradientBoostingRegressor(n_estimators=1000)"
   ]
  },
  {
   "cell_type": "code",
   "execution_count": 100,
   "metadata": {
    "collapsed": true
   },
   "outputs": [],
   "source": [
    "GBmodel=GB.fit(x,y)"
   ]
  },
  {
   "cell_type": "code",
   "execution_count": 101,
   "metadata": {},
   "outputs": [
    {
     "data": {
      "text/plain": [
       "0.99452902994857717"
      ]
     },
     "execution_count": 101,
     "metadata": {},
     "output_type": "execute_result"
    }
   ],
   "source": [
    "GBmodel.score(x,y)"
   ]
  },
  {
   "cell_type": "code",
   "execution_count": 102,
   "metadata": {
    "collapsed": true
   },
   "outputs": [],
   "source": [
    "GBpredict=GBmodel.predict(x)"
   ]
  },
  {
   "cell_type": "code",
   "execution_count": 103,
   "metadata": {
    "collapsed": true
   },
   "outputs": [],
   "source": [
    "GBresidual=y-GBpredict"
   ]
  },
  {
   "cell_type": "code",
   "execution_count": 104,
   "metadata": {},
   "outputs": [
    {
     "data": {
      "text/plain": [
       "268.17865867333086"
      ]
     },
     "execution_count": 104,
     "metadata": {},
     "output_type": "execute_result"
    }
   ],
   "source": [
    "np.sqrt(np.mean(GBresidual**2))"
   ]
  },
  {
   "cell_type": "code",
   "execution_count": null,
   "metadata": {
    "collapsed": true
   },
   "outputs": [],
   "source": []
  },
  {
   "cell_type": "code",
   "execution_count": null,
   "metadata": {
    "collapsed": true
   },
   "outputs": [],
   "source": []
  },
  {
   "cell_type": "code",
   "execution_count": null,
   "metadata": {
    "collapsed": true
   },
   "outputs": [],
   "source": []
  }
 ],
 "metadata": {
  "kernelspec": {
   "display_name": "Python 3",
   "language": "python",
   "name": "python3"
  },
  "language_info": {
   "codemirror_mode": {
    "name": "ipython",
    "version": 3
   },
   "file_extension": ".py",
   "mimetype": "text/x-python",
   "name": "python",
   "nbconvert_exporter": "python",
   "pygments_lexer": "ipython3",
   "version": "3.8.8"
  }
 },
 "nbformat": 4,
 "nbformat_minor": 2
}
